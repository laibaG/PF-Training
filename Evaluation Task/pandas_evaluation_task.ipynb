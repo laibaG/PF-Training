{
  "cells": [
    {
      "cell_type": "markdown",
      "metadata": {
        "id": "tvBbbUwWuW9S"
      },
      "source": [
        "# Perform the following analysis on the provided file \"demo.csv\".\n",
        "\n",
        "\n",
        "## 1. Which month saw the highest joining of the employees\n",
        "\n",
        "   function name: max_joinings_month()\n",
        "   \n",
        "   inputs: DataFrame\n",
        "\n",
        "   outputs: str\n",
        "   \n",
        "   \n",
        "## 2. What is the mean salary is the state KS\n",
        "\n",
        "   function name: mean_ks_salary()\n",
        "   \n",
        "   inputs: DataFrame\n",
        "\n",
        "   outputs: float\n",
        "   \n",
        "   \n",
        "## 3. Which Region has highest mean salary\n",
        "\n",
        "   function name: max_mean_salary_region()\n",
        "\n",
        "   inputs: DataFrame\n",
        "\n",
        "   outputs: str\n",
        "   \n",
        "   \n",
        "## 4. Which region has lowest mean salary\n",
        "\n",
        "   function name: min_mean_salary_region()\n",
        "\n",
        "   inputs: DataFrame\n",
        "\n",
        "   outputs: str\n",
        "   \n",
        "   \n",
        "## 5. Which City has highest mean weight\n",
        "\n",
        "   function name: max_mean_weight_city()\n",
        "\n",
        "   inputs: DataFrame\n",
        "\n",
        "   outputs: str\n",
        "   \n",
        "   \n",
        "## 6. What is the difference between mean salary of Doctors and Professors\n",
        "\n",
        "   function name: dr_prof_mean_salary_diff()\n",
        "\n",
        "   inputs: DataFrame\n",
        "\n",
        "   outputs: float\n",
        "   \n",
        "   \n",
        "## 7. How many female use yahoo\n",
        "\n",
        "   function name: females_with_yahoo()\n",
        "\n",
        "   inputs: DataFrame\n",
        "\n",
        "   outputs: int\n",
        "   \n",
        "   \n",
        "## 8. How many Doctors use gmail\n",
        "\n",
        "   function name: doctors_with_gmail()\n",
        "\n",
        "   inputs: DataFrame\n",
        "\n",
        "   outputs: int\n",
        "   \n",
        "   \n",
        "## 9. What is the password of the youngest male\n",
        "\n",
        "   function name: youngest_male_password()\n",
        "\n",
        "   inputs: DataFrame\n",
        "\n",
        "   outputs: str\n"
      ]
    },
    {
      "cell_type": "code",
      "execution_count": 23,
      "metadata": {
        "id": "5Pos8WYPuW9Y"
      },
      "outputs": [],
      "source": [
        "import pandas as pd\n",
        "import numpy as np"
      ]
    },
    {
      "cell_type": "code",
      "source": [
        "df = pd.read_csv(r'demo.csv')"
      ],
      "metadata": {
        "id": "ZUN-RGPOvHYw"
      },
      "execution_count": 24,
      "outputs": []
    },
    {
      "cell_type": "code",
      "source": [
        "df.columns"
      ],
      "metadata": {
        "colab": {
          "base_uri": "https://localhost:8080/"
        },
        "id": "whNBwG2anWHm",
        "outputId": "e7804347-98cd-4753-bff6-e948376a5d87"
      },
      "execution_count": 5,
      "outputs": [
        {
          "output_type": "execute_result",
          "data": {
            "text/plain": [
              "Index(['Emp ID', 'Name Prefix', 'First Name', 'Middle Initial', 'Last Name',\n",
              "       'Gender', 'E Mail', 'Father's Name', 'Mother's Name',\n",
              "       'Mother's Maiden Name', 'Date of Birth', 'Time of Birth', 'Age in Yrs.',\n",
              "       'Weight in Kgs.', 'Date of Joining', 'Quarter of Joining',\n",
              "       'Half of Joining', 'Year of Joining', 'Month of Joining',\n",
              "       'Month Name of Joining', 'Short Month', 'Day of Joining',\n",
              "       'DOW of Joining', 'Short DOW', 'Age in Company (Years)', 'Salary',\n",
              "       'Last % Hike', 'SSN', 'Phone No. ', 'Place Name', 'County', 'City',\n",
              "       'State', 'Zip', 'Region', 'User Name', 'Password'],\n",
              "      dtype='object')"
            ]
          },
          "metadata": {},
          "execution_count": 5
        }
      ]
    },
    {
      "cell_type": "markdown",
      "metadata": {
        "id": "n_fTzTbPuW9a"
      },
      "source": [
        "## 1. Which month saw the highest joining of the employees\n",
        "\n",
        "   function name: max_joinings_month()\n",
        "   \n",
        "   inputs: DataFrame\n",
        "\n",
        "   outputs: str"
      ]
    },
    {
      "cell_type": "code",
      "execution_count": 19,
      "metadata": {
        "id": "Ol33tFG-uW9a",
        "colab": {
          "base_uri": "https://localhost:8080/"
        },
        "outputId": "97b65794-b75f-4e7c-8af6-feec36639eae"
      },
      "outputs": [
        {
          "output_type": "stream",
          "name": "stdout",
          "text": [
            "April\n"
          ]
        }
      ],
      "source": [
        "def max_joinings_month(df):\n",
        "  month = df['Month Name of Joining'].value_counts()\n",
        "  return month.idxmax()\n",
        "\n",
        "print(max_joinings_month(df))"
      ]
    },
    {
      "cell_type": "markdown",
      "metadata": {
        "id": "rVE_BdqIuW9b"
      },
      "source": [
        "## 2. What is the mean salary is the state KS\n",
        "\n",
        "   function name: mean_ks_salary()\n",
        "   \n",
        "   inputs: DataFrame\n",
        "\n",
        "   outputs: float"
      ]
    },
    {
      "cell_type": "code",
      "execution_count": 21,
      "metadata": {
        "id": "UpoU-UakuW9b",
        "colab": {
          "base_uri": "https://localhost:8080/"
        },
        "outputId": "9801adf0-01d5-41d3-9420-8ffc0f73a3d4"
      },
      "outputs": [
        {
          "output_type": "stream",
          "name": "stdout",
          "text": [
            "104225.45454545454\n"
          ]
        }
      ],
      "source": [
        "def mean_ks_salary(df):\n",
        "  state = df[df['State'] == 'KS']\n",
        "  return state['Salary'].mean()\n",
        "\n",
        "print(mean_ks_salary(df))"
      ]
    },
    {
      "cell_type": "markdown",
      "metadata": {
        "id": "Vgd5Fb5CuW9c"
      },
      "source": [
        "## 3. Which Region has highest mean salary\n",
        "\n",
        "   function name: max_mean_salary_region()\n",
        "\n",
        "   inputs: DataFrame\n",
        "\n",
        "   outputs: str"
      ]
    },
    {
      "cell_type": "code",
      "execution_count": 27,
      "metadata": {
        "id": "7HOPwotyuW9c",
        "colab": {
          "base_uri": "https://localhost:8080/"
        },
        "outputId": "0299a7c1-e3fb-4070-956e-591f5bf903c9"
      },
      "outputs": [
        {
          "output_type": "stream",
          "name": "stdout",
          "text": [
            "Midwest\n"
          ]
        }
      ],
      "source": [
        "def max_mean_salary_region(df):\n",
        "  region = df.groupby('Region')['Salary'].mean()\n",
        "  return region.idxmax()\n",
        "\n",
        "print(max_mean_salary_region(df))"
      ]
    },
    {
      "cell_type": "markdown",
      "metadata": {
        "id": "wawx6nHmuW9d"
      },
      "source": [
        "## 4. Which region has lowest mean salary\n",
        "\n",
        "   function name: min_mean_salary_region()\n",
        "\n",
        "   inputs: DataFrame\n",
        "\n",
        "   outputs: str"
      ]
    },
    {
      "cell_type": "code",
      "execution_count": 28,
      "metadata": {
        "id": "dH61IHpFuW9d",
        "colab": {
          "base_uri": "https://localhost:8080/"
        },
        "outputId": "844e55d9-2eb8-4fdf-ff59-cf142ff4357a"
      },
      "outputs": [
        {
          "output_type": "stream",
          "name": "stdout",
          "text": [
            "West\n"
          ]
        }
      ],
      "source": [
        "def min_mean_salary_region(df):\n",
        "  region = df.groupby('Region')['Salary'].mean()\n",
        "  return region.idxmin()\n",
        "\n",
        "print(min_mean_salary_region(df))"
      ]
    },
    {
      "cell_type": "markdown",
      "metadata": {
        "id": "MSpzMJpPuW9d"
      },
      "source": [
        "## 5. Which City has highest mean weight\n",
        "\n",
        "   function name: max_mean_weight_city()\n",
        "\n",
        "   inputs: DataFrame\n",
        "\n",
        "   outputs: str"
      ]
    },
    {
      "cell_type": "code",
      "execution_count": 29,
      "metadata": {
        "id": "m2gP7FpMuW9e",
        "colab": {
          "base_uri": "https://localhost:8080/"
        },
        "outputId": "9c0a536d-cbe1-4849-dc19-a4c98e2a97bf"
      },
      "outputs": [
        {
          "output_type": "stream",
          "name": "stdout",
          "text": [
            "Conroe\n"
          ]
        }
      ],
      "source": [
        "def max_mean_weight_city(df):\n",
        "  region = df.groupby('City')['Weight in Kgs.'].mean()\n",
        "  return region.idxmax()\n",
        "\n",
        "print(max_mean_weight_city(df))"
      ]
    },
    {
      "cell_type": "markdown",
      "metadata": {
        "id": "amq4sSZ5uW9e"
      },
      "source": [
        "## 6. What is the difference between mean salary of Doctors and Professors\n",
        "\n",
        "   function name: dr_prof_mean_salary_diff()\n",
        "\n",
        "   inputs: DataFrame\n",
        "\n",
        "   outputs: float"
      ]
    },
    {
      "cell_type": "code",
      "execution_count": 34,
      "metadata": {
        "id": "nXuEdsLBuW9f",
        "colab": {
          "base_uri": "https://localhost:8080/"
        },
        "outputId": "7f89faad-45bb-4327-9d4a-16b51f886da1"
      },
      "outputs": [
        {
          "output_type": "stream",
          "name": "stdout",
          "text": [
            "4029.7968588788353\n"
          ]
        }
      ],
      "source": [
        "def dr_prof_mean_salary_diff(df):\n",
        "  doc = df[(df['Name Prefix'] == 'Dr.') | (df['Name Prefix'] == 'Drs.')]\n",
        "  prof = df[(df['Name Prefix'] == 'Prof.') | (df['Name Prefix'] == 'Hon.')]\n",
        "\n",
        "  return abs(doc['Salary'].mean()-prof['Salary'].mean())\n",
        "\n",
        "print(dr_prof_mean_salary_diff(df))"
      ]
    },
    {
      "cell_type": "markdown",
      "metadata": {
        "id": "WCgvbyRHuW9f"
      },
      "source": [
        "## 7. How many female use yahoo\n",
        "\n",
        "   function name: females_with_yahoo()\n",
        "\n",
        "   inputs: DataFrame\n",
        "\n",
        "   outputs: int"
      ]
    },
    {
      "cell_type": "code",
      "execution_count": 41,
      "metadata": {
        "id": "z17LU2IVuW9f",
        "colab": {
          "base_uri": "https://localhost:8080/"
        },
        "outputId": "0648dee3-1d0f-4fd1-fa5f-5010ae087885"
      },
      "outputs": [
        {
          "output_type": "stream",
          "name": "stdout",
          "text": [
            "69\n"
          ]
        }
      ],
      "source": [
        "def females_with_yahoo(df):\n",
        "  f = df[df['Gender'] == 'F']\n",
        "  return len(f[f['E Mail'].str.contains('@yahoo', case = False)])\n",
        "\n",
        "print(females_with_yahoo(df))"
      ]
    },
    {
      "cell_type": "markdown",
      "metadata": {
        "id": "LRx_pxOPuW9g"
      },
      "source": [
        "## 8. How many Doctors use gmail\n",
        "\n",
        "   function name: doctors_with_gmail()\n",
        "\n",
        "   inputs: DataFrame\n",
        "\n",
        "   outputs: int"
      ]
    },
    {
      "cell_type": "code",
      "execution_count": 42,
      "metadata": {
        "id": "58Qmeg9nuW9g",
        "colab": {
          "base_uri": "https://localhost:8080/"
        },
        "outputId": "171e5596-56ed-464c-f69a-78ed0474dc68"
      },
      "outputs": [
        {
          "output_type": "stream",
          "name": "stdout",
          "text": [
            "42\n"
          ]
        }
      ],
      "source": [
        "def doctors_with_gmail(df):\n",
        "  doc = df[(df['Name Prefix'] == 'Dr.') | (df['Name Prefix'] == 'Drs.')]\n",
        "  return len(doc[doc['E Mail'].str.contains('@gmail', case = False)])\n",
        "\n",
        "\n",
        "print(doctors_with_gmail(df))"
      ]
    },
    {
      "cell_type": "markdown",
      "metadata": {
        "id": "wAMZIWg5uW9h"
      },
      "source": [
        "## 9. What is the password of the youngest male\n",
        "\n",
        "   function name: youngest_male_password()\n",
        "\n",
        "   inputs: DataFrame\n",
        "\n",
        "   outputs: str"
      ]
    },
    {
      "cell_type": "code",
      "execution_count": 63,
      "metadata": {
        "id": "LMs7ZxjRuW9h",
        "colab": {
          "base_uri": "https://localhost:8080/"
        },
        "outputId": "ea438ba1-3361-4538-95e2-43f4d7b6ddd9"
      },
      "outputs": [
        {
          "output_type": "stream",
          "name": "stdout",
          "text": [
            "127       xPr\\aGPTQ#v\n",
            "945    4FZyXCh^&{!Q8u\n",
            "Name: Password, dtype: object\n"
          ]
        }
      ],
      "source": [
        "def youngest_male_password(df):\n",
        "  young = df[(df['Gender'] == 'M')]\n",
        "  min_age = df['Age in Yrs.'].min()\n",
        "  return young[young['Age in Yrs.'] == min_age]['Password']\n",
        "\n",
        "\n",
        "print(youngest_male_password(df))"
      ]
    }
  ],
  "metadata": {
    "kernelspec": {
      "display_name": "unet_ml11",
      "language": "python",
      "name": "unet_ml11"
    },
    "language_info": {
      "codemirror_mode": {
        "name": "ipython",
        "version": 3
      },
      "file_extension": ".py",
      "mimetype": "text/x-python",
      "name": "python",
      "nbconvert_exporter": "python",
      "pygments_lexer": "ipython3",
      "version": "3.6.9"
    },
    "colab": {
      "provenance": []
    }
  },
  "nbformat": 4,
  "nbformat_minor": 0
}