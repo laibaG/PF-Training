{
  "nbformat": 4,
  "nbformat_minor": 0,
  "metadata": {
    "colab": {
      "provenance": []
    },
    "kernelspec": {
      "name": "python3",
      "display_name": "Python 3"
    },
    "language_info": {
      "name": "python"
    }
  },
  "cells": [
    {
      "cell_type": "markdown",
      "source": [
        "**Basic python**\n",
        "\n"
      ],
      "metadata": {
        "id": "nyUrMbat_NFp"
      }
    },
    {
      "cell_type": "code",
      "source": [
        "#factorial\n",
        "def factorial(n):\n",
        "  if (n==0 or n==1):\n",
        "    return 1\n",
        "  else:\n",
        "    return(n * factorial(n-1))\n",
        "\n",
        "print(factorial(5))"
      ],
      "metadata": {
        "colab": {
          "base_uri": "https://localhost:8080/"
        },
        "id": "oekEbile_uld",
        "outputId": "61df2068-f8c0-4d14-de71-6f76e4eae597"
      },
      "execution_count": null,
      "outputs": [
        {
          "output_type": "stream",
          "name": "stdout",
          "text": [
            "120\n"
          ]
        }
      ]
    },
    {
      "cell_type": "code",
      "source": [
        "#Simple Interest\n",
        "def interest(a, t, r):\n",
        "  return((a*t*r)/100)\n",
        "\n",
        "print(\"The interest is: \",interest(300,7,1))"
      ],
      "metadata": {
        "colab": {
          "base_uri": "https://localhost:8080/"
        },
        "id": "H1ez1jgTCxo8",
        "outputId": "b3d9631d-04d5-4ef1-d954-83568c3a2de2"
      },
      "execution_count": null,
      "outputs": [
        {
          "output_type": "stream",
          "name": "stdout",
          "text": [
            "The interest is:  21.0\n"
          ]
        }
      ]
    },
    {
      "cell_type": "code",
      "source": [
        "#armstrong\n",
        "def isArmstrong(n):\n",
        "  sum = 0\n",
        "  rem = n\n",
        "  size = str(n)\n",
        "\n",
        "  for i in len(size):\n",
        "    rem = rem % 10\n",
        "    sum += pow(rem,len(str(n)))\n",
        "\n",
        "  return True if (sum == n) else False\n",
        "\n",
        "print(isArmstrong(2))"
      ],
      "metadata": {
        "id": "2USM49tdEF6p"
      },
      "execution_count": null,
      "outputs": []
    },
    {
      "cell_type": "code",
      "source": [
        "#area of circle\n",
        "def area(r):\n",
        "  pi = 3.14\n",
        "  return pi*(r*r)\n",
        "\n",
        "n = float(input(\"Enter radius of circle: \"))\n",
        "print(area(n))"
      ],
      "metadata": {
        "colab": {
          "base_uri": "https://localhost:8080/"
        },
        "id": "1a3z3R8uJKNp",
        "outputId": "8c851db9-05d7-4921-da2c-914cb904d0e9"
      },
      "execution_count": null,
      "outputs": [
        {
          "output_type": "stream",
          "name": "stdout",
          "text": [
            "Enter radius of circle: 2.3\n",
            "16.610599999999998\n"
          ]
        }
      ]
    },
    {
      "cell_type": "code",
      "source": [
        "#sum of squares of 1st n numbers\n",
        "def sumOfSquare(n):\n",
        "  sum = 0\n",
        "  for i in range(n+1):\n",
        "    sum += i**2\n",
        "  return sum\n",
        "\n",
        "print(sumOfSquare(3))"
      ],
      "metadata": {
        "colab": {
          "base_uri": "https://localhost:8080/"
        },
        "id": "_INmojnAYDBQ",
        "outputId": "c15d1c97-56ee-41bc-a4cc-a47f5216088d"
      },
      "execution_count": null,
      "outputs": [
        {
          "output_type": "stream",
          "name": "stdout",
          "text": [
            "14\n"
          ]
        }
      ]
    },
    {
      "cell_type": "code",
      "source": [
        "#ascii of char\n",
        "\n",
        "def ascii(a):\n",
        "  return ord(a)\n",
        "\n",
        "a = input(\"Enter char: \")\n",
        "print(ascii(a))"
      ],
      "metadata": {
        "colab": {
          "base_uri": "https://localhost:8080/"
        },
        "id": "xMgc9VvDZwA5",
        "outputId": "f6aed3c9-f25b-406d-ea24-af10b4199db5"
      },
      "execution_count": null,
      "outputs": [
        {
          "output_type": "stream",
          "name": "stdout",
          "text": [
            "Enter char: X\n",
            "88\n"
          ]
        }
      ]
    },
    {
      "cell_type": "code",
      "source": [
        "#prime number\n",
        "\n",
        "def isPrime(n):\n",
        "\n",
        "  flag = True\n",
        "\n",
        "  for i in range(2, int(n/2)):\n",
        "    if (n % i == 0):\n",
        "      flag = False\n",
        "      break\n",
        "  if (flag == True):\n",
        "    print(n, \" is a prime number.\")\n",
        "  else:\n",
        "    print(n, \" is not a prime number.\")\n",
        "\n",
        "isPrime(6)"
      ],
      "metadata": {
        "colab": {
          "base_uri": "https://localhost:8080/"
        },
        "id": "osM6diyEctHW",
        "outputId": "dc06157f-5a19-4945-c322-140e6b330ddb"
      },
      "execution_count": null,
      "outputs": [
        {
          "output_type": "stream",
          "name": "stdout",
          "text": [
            "6  is not a prime number.\n"
          ]
        }
      ]
    },
    {
      "cell_type": "code",
      "source": [
        "#isFibonacci\n",
        "\n",
        "def isfib(n):"
      ],
      "metadata": {
        "id": "HT1HMflBg6B4"
      },
      "execution_count": null,
      "outputs": []
    },
    {
      "cell_type": "markdown",
      "source": [
        "**Arrays**"
      ],
      "metadata": {
        "id": "m0SqJ2GiNbPN"
      }
    },
    {
      "cell_type": "code",
      "source": [
        "#sum of array\n",
        "def arraySum(a):\n",
        "  sum = 0\n",
        "  for i in range(len(a)):\n",
        "    sum += a[i]\n",
        "  return sum\n",
        "\n",
        "arr = [1,2,3,4]\n",
        "print(\"Sum of array is: \", arraySum(arr))"
      ],
      "metadata": {
        "colab": {
          "base_uri": "https://localhost:8080/"
        },
        "id": "2WtQrIDcMn1c",
        "outputId": "e438c2b2-852b-49e9-f8b7-5f3b2b47c60e"
      },
      "execution_count": null,
      "outputs": [
        {
          "output_type": "stream",
          "name": "stdout",
          "text": [
            "Sum of array is:  10\n"
          ]
        }
      ]
    },
    {
      "cell_type": "code",
      "source": [
        "#rotation of array\n",
        "\n",
        "def rotateArray(arr, n, r):\n",
        "  for i in range(r):\n",
        "    temp = arr[0]\n",
        "    for j in range(n-1):\n",
        "      arr[j] = arr[j+1]\n",
        "    arr[n-1] = temp\n",
        "  return arr\n",
        "\n",
        "arr = [1,2,3,4,5,6,7,8]\n",
        "print(rotateArray(arr, len(arr), 2))"
      ],
      "metadata": {
        "colab": {
          "base_uri": "https://localhost:8080/"
        },
        "id": "g4r7Co5dWgZ9",
        "outputId": "aa1e74d1-686c-4ce3-80c9-3114671de59e"
      },
      "execution_count": null,
      "outputs": [
        {
          "output_type": "stream",
          "name": "stdout",
          "text": [
            "[3, 4, 5, 6, 7, 8, 1, 2]\n"
          ]
        }
      ]
    },
    {
      "cell_type": "code",
      "source": [
        "#remainder of array multiplication\n",
        "def arrayMultiRem(arr, s):\n",
        "  prod = 1\n",
        "  for i in range(len(arr)):\n",
        "    prod *= arr[i]\n",
        "  return prod % s\n",
        "\n",
        "arr = [100, 10, 5, 25, 35, 14]\n",
        "print(arrayMultiRem(arr, 11))"
      ],
      "metadata": {
        "colab": {
          "base_uri": "https://localhost:8080/"
        },
        "id": "I5KipjKl7JeQ",
        "outputId": "e29fc138-9076-4cb4-ea77-101e39bdd74c"
      },
      "execution_count": null,
      "outputs": [
        {
          "output_type": "stream",
          "name": "stdout",
          "text": [
            "9\n"
          ]
        }
      ]
    },
    {
      "cell_type": "markdown",
      "source": [
        "List"
      ],
      "metadata": {
        "id": "2oPzozQL1t8o"
      }
    },
    {
      "cell_type": "code",
      "source": [
        "# swap first and last element of a list\n",
        "def swapList(newList):\n",
        "\tnewList[0], newList[-1] = newList[-1], newList[0]\n",
        "\treturn newList\n",
        "\n",
        "newList = [12, 35, 9, 56, 24]\n",
        "print(swapList(newList))"
      ],
      "metadata": {
        "colab": {
          "base_uri": "https://localhost:8080/"
        },
        "id": "0lidbQiQzwUi",
        "outputId": "b3408222-132c-4299-aad6-2cf6e3146e08"
      },
      "execution_count": null,
      "outputs": [
        {
          "output_type": "stream",
          "name": "stdout",
          "text": [
            "[24, 35, 9, 56, 12]\n"
          ]
        }
      ]
    },
    {
      "cell_type": "code",
      "source": [
        "# check if an element exists in list\n",
        "test_list = [1, 6, 3, 5, 3, 4]\n",
        "\n",
        "for i in test_list:\n",
        "\tif(i == 4):\n",
        "\t\tprint(\"Element Exists\")"
      ],
      "metadata": {
        "colab": {
          "base_uri": "https://localhost:8080/"
        },
        "id": "8pB-suqe2C9k",
        "outputId": "6b7f98b6-580f-4e3c-f22b-aeb685a5ce79"
      },
      "execution_count": null,
      "outputs": [
        {
          "output_type": "stream",
          "name": "stdout",
          "text": [
            "Element Exists\n"
          ]
        }
      ]
    },
    {
      "cell_type": "code",
      "source": [
        "# Reversing a list using two-pointer approach\n",
        "def reverse_list(arr):\n",
        "\tleft = 0\n",
        "\tright = len(arr)-1\n",
        "\twhile (left < right):\n",
        "\t\t# Swap\n",
        "\t\ttemp = arr[left]\n",
        "\t\tarr[left] = arr[right]\n",
        "\t\tarr[right] = temp\n",
        "\t\tleft += 1\n",
        "\t\tright -= 1\n",
        "\n",
        "\treturn arr\n",
        "\n",
        "arr = [1, 2, 3, 4, 5, 6, 7]\n",
        "print(reverse_list(arr))"
      ],
      "metadata": {
        "id": "yShf_E812ezs"
      },
      "execution_count": null,
      "outputs": []
    },
    {
      "cell_type": "code",
      "source": [
        "# program to multiply all values in the list using numpy.prod()\n",
        "\n",
        "import numpy\n",
        "list1 = [1, 2, 3]\n",
        "list2 = [3, 2, 4]\n",
        "\n",
        "result1 = numpy.prod(list1)\n",
        "result2 = numpy.prod(list2)\n",
        "print(result1)\n",
        "print(result2)"
      ],
      "metadata": {
        "colab": {
          "base_uri": "https://localhost:8080/"
        },
        "id": "HVS1lZYP6hFg",
        "outputId": "3d84b231-754d-4537-f036-d0e6e910fd36"
      },
      "execution_count": null,
      "outputs": [
        {
          "output_type": "stream",
          "name": "stdout",
          "text": [
            "6\n",
            "24\n"
          ]
        }
      ]
    },
    {
      "cell_type": "code",
      "source": [
        "# Python program to find largest number in a list\n",
        "list1 = [10, 20, 4, 45, 99]\n",
        "list1.sort()\n",
        "print(\"Largest element is:\", list1[-1])"
      ],
      "metadata": {
        "id": "RsiBGv1X6yXK"
      },
      "execution_count": null,
      "outputs": []
    },
    {
      "cell_type": "code",
      "source": [
        "# Python program to print Even Numbers in given range\n",
        "start = int(input(\"Enter the start of range:\"))\n",
        "end = int(input(\"Enter the end of range:\"))\n",
        "\n",
        "for num in range(start, end + 1):\n",
        "\n",
        "\tif num % 2 != 0:\n",
        "\t\tprint(num)"
      ],
      "metadata": {
        "id": "goRQh1Oc7Bp0"
      },
      "execution_count": null,
      "outputs": []
    },
    {
      "cell_type": "code",
      "source": [
        "# Python program to remove multiple elements from a list\n",
        "\n",
        "list1 = [11, 5, 17, 18, 23, 50]\n",
        "\n",
        "for elem in list1:\n",
        "\tif elem % 2 == 0:\n",
        "\t\tlist1.remove(elem)\n",
        "\n",
        "print(\"New list after removing all even numbers: \", list1)"
      ],
      "metadata": {
        "id": "_vTHDZUB7Neo"
      },
      "execution_count": null,
      "outputs": []
    },
    {
      "cell_type": "code",
      "source": [
        "# Demonstrate Remove empty List\n",
        "\n",
        "test_list = [5, 6, [], 3, [], [], 9]\n",
        "print(\"The original list is : \" + str(test_list))\n",
        "\n",
        "while [] in test_list :\n",
        "\ttest_list.remove([])\n",
        "\n",
        "print(\"List after empty list removal : \" + str(test_list))"
      ],
      "metadata": {
        "colab": {
          "base_uri": "https://localhost:8080/"
        },
        "id": "V1FG5SjF8U3F",
        "outputId": "5b7843d3-b879-4850-adb6-fe2e8268b153"
      },
      "execution_count": null,
      "outputs": [
        {
          "output_type": "stream",
          "name": "stdout",
          "text": [
            "The original list is : [5, 6, [], 3, [], [], 9]\n",
            "List after empty list removal : [5, 6, 3, 9]\n"
          ]
        }
      ]
    },
    {
      "cell_type": "code",
      "source": [
        "# Break a list into chunks of size N in Python using itertool\n",
        "my_list = [1, 2, 3, 4, 5,\n",
        "\t\t6, 7, 8, 9]\n",
        "start = 0\n",
        "end = len(my_list)\n",
        "step = 3\n",
        "for i in range(start, end, step):\n",
        "\tx = i\n",
        "\tprint(my_list[x:x+step])"
      ],
      "metadata": {
        "colab": {
          "base_uri": "https://localhost:8080/"
        },
        "id": "Jn9H9gd38dT1",
        "outputId": "de260019-3749-4038-b719-856b70f439e1"
      },
      "execution_count": null,
      "outputs": [
        {
          "output_type": "stream",
          "name": "stdout",
          "text": [
            "[1, 2, 3]\n",
            "[4, 5, 6]\n",
            "[7, 8, 9]\n"
          ]
        }
      ]
    },
    {
      "cell_type": "code",
      "source": [
        "# program to sort values of first list based on second list\n",
        "list1 = [\"a\", \"b\", \"c\", \"d\", \"e\", \"f\", \"g\", \"h\", \"i\"]\n",
        "list2 = [0, 1, 1, 0, 1, 2, 2, 0, 1]\n",
        "a = list(set(list2))\n",
        "a.sort()\n",
        "res = []\n",
        "for i in a:\n",
        "\tfor j in range(0, len(list2)):\n",
        "\t\tif(list2[j] == i):\n",
        "\t\t\tres.append(list1[j])\n",
        "print(res)"
      ],
      "metadata": {
        "colab": {
          "base_uri": "https://localhost:8080/"
        },
        "id": "awvvO2x1883d",
        "outputId": "8945f595-6303-4931-c4bf-e477a037243f"
      },
      "execution_count": null,
      "outputs": [
        {
          "output_type": "stream",
          "name": "stdout",
          "text": [
            "['a', 'd', 'h', 'b', 'c', 'e', 'i', 'f', 'g']\n"
          ]
        }
      ]
    },
    {
      "cell_type": "markdown",
      "source": [
        "Matrix"
      ],
      "metadata": {
        "id": "Omd4oyC--Mky"
      }
    },
    {
      "cell_type": "code",
      "source": [
        "# addition and subtraction\n",
        "import numpy as np\n",
        "\n",
        "A = np.array([[1, 2], [3, 4]])\n",
        "B = np.array([[4, 5], [6, 7]])\n",
        "\n",
        "print(\"Printing elements of first matrix\")\n",
        "print(A)\n",
        "print(\"Printing elements of second matrix\")\n",
        "print(B)\n",
        "#subtraction\n",
        "print(\"Subtraction of two matrix\")\n",
        "print(np.subtract(A, B))\n",
        "# adding two matrix\n",
        "print(\"Addition of two matrix\")\n",
        "print(np.add(A, B))"
      ],
      "metadata": {
        "colab": {
          "base_uri": "https://localhost:8080/"
        },
        "id": "82ub5oiN9RDm",
        "outputId": "cbb20cf2-2326-4694-b9d1-3c4612547d1c"
      },
      "execution_count": null,
      "outputs": [
        {
          "output_type": "stream",
          "name": "stdout",
          "text": [
            "Printing elements of first matrix\n",
            "[[1 2]\n",
            " [3 4]]\n",
            "Printing elements of second matrix\n",
            "[[4 5]\n",
            " [6 7]]\n",
            "Subtraction of two matrix\n",
            "[[-3 -3]\n",
            " [-3 -3]]\n",
            "Addition of two matrix\n",
            "[[ 5  7]\n",
            " [ 9 11]]\n"
          ]
        }
      ]
    },
    {
      "cell_type": "code",
      "source": [
        "import numpy as np\n",
        "\n",
        "test_list = [[4, 5, 6], [8, 1, 10], [7, 12, 5]]\n",
        "print(\"The original list is : \" + str(test_list))\n",
        "K = 2\n",
        "res = np.array(test_list)[:,K]\n",
        "print(\"The Kth column of matrix is : \" + str(res))"
      ],
      "metadata": {
        "colab": {
          "base_uri": "https://localhost:8080/"
        },
        "id": "9U2e2CJV9iB-",
        "outputId": "08ef1fa2-65d0-4603-8510-5ad6177e33ba"
      },
      "execution_count": null,
      "outputs": [
        {
          "output_type": "stream",
          "name": "stdout",
          "text": [
            "The original list is : [[4, 5, 6], [8, 1, 10], [7, 12, 5]]\n",
            "The Kth column of matrix is : [ 6 10  5]\n"
          ]
        }
      ]
    },
    {
      "cell_type": "markdown",
      "source": [
        "Dictionary"
      ],
      "metadata": {
        "id": "HkSbfBNd-ukf"
      }
    },
    {
      "cell_type": "code",
      "source": [
        "#convert key values into flat dictionary\n",
        "test_dict = {'month': [1, 2, 3], 'name': ['Jan', 'Feb', 'March']}\n",
        "res = {test_dict['month'][i]: test_dict['name'][i] for i in range(len(test_dict['month']))}\n",
        "print(\"Flattened dictionary:\", res)"
      ],
      "metadata": {
        "colab": {
          "base_uri": "https://localhost:8080/"
        },
        "id": "hzhw8Mgn99Nw",
        "outputId": "a8fd0c4d-0571-400e-ed22-608880a275a1"
      },
      "execution_count": null,
      "outputs": [
        {
          "output_type": "stream",
          "name": "stdout",
          "text": [
            "Flattened dictionary: {1: 'Jan', 2: 'Feb', 3: 'March'}\n"
          ]
        }
      ]
    },
    {
      "cell_type": "code",
      "source": [
        "#check order of char in string using ordererDict()\n",
        "\n",
        "def check_order(string, pattern):\n",
        "\ti, j = 0, 0\n",
        "\tfor char in string:\n",
        "\t\tif char == pattern[j]:\n",
        "\t\t\tj += 1\n",
        "\t\tif j == len(pattern):\n",
        "\t\t\treturn True\n",
        "\t\ti += 1\n",
        "\n",
        "\treturn False\n",
        "string = 'engineers rock'\n",
        "pattern = 'er'\n",
        "print(check_order(string, pattern))"
      ],
      "metadata": {
        "colab": {
          "base_uri": "https://localhost:8080/"
        },
        "id": "sDPUMXjk-wsp",
        "outputId": "4e1a01c0-dfa3-4bb4-b8e8-25d0fd69e1df"
      },
      "execution_count": null,
      "outputs": [
        {
          "output_type": "stream",
          "name": "stdout",
          "text": [
            "True\n"
          ]
        }
      ]
    },
    {
      "cell_type": "code",
      "source": [
        "# Python code to demonstrate a dictionary with multiple inputs in a key.\n",
        "import random as rn\n",
        "\n",
        "dict = {}\n",
        "x, y, z = 10, 20, 30\n",
        "dict[x, y, z] = x + y - z;\n",
        "x, y, z = 5, 2, 4\n",
        "dict[x, y, z] = x + y - z;\n",
        "\n",
        "print(dict)"
      ],
      "metadata": {
        "colab": {
          "base_uri": "https://localhost:8080/"
        },
        "id": "8eDtaBGTyBx8",
        "outputId": "a9e85f35-5ffc-4f96-8a42-90bee5b80903"
      },
      "execution_count": 1,
      "outputs": [
        {
          "output_type": "stream",
          "name": "stdout",
          "text": [
            "{(10, 20, 30): 0, (5, 2, 4): 3}\n"
          ]
        }
      ]
    },
    {
      "cell_type": "code",
      "source": [
        "# Remove all duplicates words from a given sentence\n",
        "from collections import Counter\n",
        "\n",
        "def remov_duplicates(input):\n",
        "\n",
        "\tinput = input.split(\" \")\n",
        "\n",
        "\tUniqW = Counter(input)\n",
        "\n",
        "\ts = \" \".join(UniqW.keys())\n",
        "\tprint (s)\n",
        "\n",
        "if __name__ == \"__main__\":\n",
        "\tinput = 'Python is great and Java is also great'\n",
        "\tremov_duplicates(input)"
      ],
      "metadata": {
        "colab": {
          "base_uri": "https://localhost:8080/"
        },
        "id": "W9R2qAn2yOow",
        "outputId": "a87219b6-788d-46c1-f8c1-7690e7d19127"
      },
      "execution_count": 2,
      "outputs": [
        {
          "output_type": "stream",
          "name": "stdout",
          "text": [
            "Python is great and Java also\n"
          ]
        }
      ]
    },
    {
      "cell_type": "code",
      "source": [
        "# function to mirror characters of a string\n",
        "\n",
        "def mirrorChars(input,k):\n",
        "\n",
        "\toriginal = 'abcdefghijklmnopqrstuvwxyz'\n",
        "\treverse = 'zyxwvutsrqponmlkjihgfedcba'\n",
        "\tdictChars = dict(zip(original,reverse))\n",
        "\n",
        "\tprefix = input[0:k-1]\n",
        "\tsuffix = input[k-1:]\n",
        "\tmirror = ''\n",
        "\n",
        "\tfor i in range(0,len(suffix)):\n",
        "\t\tmirror = mirror + dictChars[suffix[i]]\n",
        "\n",
        "\tprint (prefix+mirror)\n",
        "\n",
        "if __name__ == \"__main__\":\n",
        "\tinput = 'paradox'\n",
        "\tk = 3\n",
        "\tmirrorChars(input,k)"
      ],
      "metadata": {
        "id": "CamKc_o-ygTc"
      },
      "execution_count": null,
      "outputs": []
    },
    {
      "cell_type": "code",
      "source": [
        "# demonstrate working of Values Associated Keys Using setdefault()\n",
        "\n",
        "test_dict = {'gfg' : [1, 2, 3], 'is' : [1, 4], 'best' : [4, 2]}\n",
        "\n",
        "print(\"The original dictionary is : \" + str(test_dict))\n",
        "\n",
        "result_dict = {}\n",
        "for key, val in test_dict.items():\n",
        "\tfor ele in val:\n",
        "\t\tresult_dict.setdefault(ele, []).append(key)\n",
        "\n",
        "# printing result\n",
        "print(\"The values associated dictionary : \" + str(result_dict))"
      ],
      "metadata": {
        "colab": {
          "base_uri": "https://localhost:8080/"
        },
        "id": "S__-KQ0Ly6cj",
        "outputId": "d140b8d5-442d-44a1-ed12-7d5a8929506c"
      },
      "execution_count": 4,
      "outputs": [
        {
          "output_type": "stream",
          "name": "stdout",
          "text": [
            "The original dictionary is : {'gfg': [1, 2, 3], 'is': [1, 4], 'best': [4, 2]}\n",
            "The values associated dictionary : {1: ['gfg', 'is'], 2: ['gfg', 'best'], 3: ['gfg'], 4: ['is', 'best']}\n"
          ]
        }
      ]
    },
    {
      "cell_type": "markdown",
      "source": [
        "Tuple\n"
      ],
      "metadata": {
        "id": "Jtgw43A5zEcV"
      }
    },
    {
      "cell_type": "code",
      "source": [
        "#Find the size of a Tuple in Python\n",
        "\n",
        "import sys\n",
        "\n",
        "# sample Tuples\n",
        "Tuple1 = (\"A\", 1, \"B\", 2, \"C\", 3)\n",
        "Tuple2 = (\"Geek1\", \"Raju\", \"Geek2\", \"Nikhil\", \"Geek3\", \"Deepanshu\")\n",
        "Tuple3 = ((1, \"Lion\"), ( 2, \"Tiger\"), (3, \"Fox\"), (4, \"Wolf\"))\n",
        "\n",
        "# print the sizes of sample Tuples\n",
        "print(\"Size of Tuple1: \" + str(sys.getsizeof(Tuple1)) + \"bytes\")\n",
        "print(\"Size of Tuple2: \" + str(sys.getsizeof(Tuple2)) + \"bytes\")\n",
        "print(\"Size of Tuple3: \" + str(sys.getsizeof(Tuple3)) + \"bytes\")"
      ],
      "metadata": {
        "colab": {
          "base_uri": "https://localhost:8080/"
        },
        "id": "eM0UsyvyzFqy",
        "outputId": "410920c1-9aeb-4844-ba25-93bdf456bd55"
      },
      "execution_count": 5,
      "outputs": [
        {
          "output_type": "stream",
          "name": "stdout",
          "text": [
            "Size of Tuple1: 88bytes\n",
            "Size of Tuple2: 88bytes\n",
            "Size of Tuple3: 72bytes\n"
          ]
        }
      ]
    },
    {
      "cell_type": "code",
      "source": [
        "# Closest Pair to Kth index element in Tuple\n",
        "\n",
        "test_list = [(3, 4), (78, 76), (2, 3), (9, 8), (19, 23)]\n",
        "\n",
        "tup = (17, 23)\n",
        "K = 1\n",
        "\n",
        "res = min(test_list, key=lambda x: abs(x[K-1] - tup[K-1]))\n",
        "\n",
        "print(\"The nearest tuple to Kth index element is : \" + str(res))"
      ],
      "metadata": {
        "colab": {
          "base_uri": "https://localhost:8080/"
        },
        "id": "KQg6Yn7bzXKL",
        "outputId": "68ee45ec-d299-49c5-bd05-9be3eb5e8f73"
      },
      "execution_count": 6,
      "outputs": [
        {
          "output_type": "stream",
          "name": "stdout",
          "text": [
            "The nearest tuple to Kth index element is : (19, 23)\n"
          ]
        }
      ]
    }
  ]
}