{
  "cells": [
    {
      "cell_type": "markdown",
      "id": "6293cc50",
      "metadata": {
        "id": "6293cc50"
      },
      "source": [
        "# 100 numpy exercises\n",
        "\n",
        "This is a collection of exercises that have been collected in the numpy mailing list, on stack overflow\n",
        "and in the numpy documentation. The goal of this collection is to offer a quick reference for both old\n",
        "and new users but also to provide a set of exercises for those who teach.\n",
        "\n",
        "\n",
        "If you find an error or think you've a better way to solve some of them, feel\n",
        "free to open an issue at <https://github.com/rougier/numpy-100>."
      ]
    },
    {
      "cell_type": "markdown",
      "id": "a167c052",
      "metadata": {
        "id": "a167c052"
      },
      "source": [
        "File automatically generated. See the documentation to update questions/answers/hints programmatically."
      ]
    },
    {
      "cell_type": "markdown",
      "id": "57fc0ee5",
      "metadata": {
        "id": "57fc0ee5"
      },
      "source": [
        "Run the `initialize.py` module, then for each question you can query the\n",
        "answer or an hint with `hint(n)` or `answer(n)` for `n` question number."
      ]
    },
    {
      "cell_type": "code",
      "execution_count": null,
      "id": "3d46fba2",
      "metadata": {
        "id": "3d46fba2"
      },
      "outputs": [],
      "source": [
        "%run initialise.py"
      ]
    },
    {
      "cell_type": "markdown",
      "id": "3c1222ff",
      "metadata": {
        "id": "3c1222ff"
      },
      "source": [
        "#### 1. Import the numpy package under the name `np` (★☆☆)"
      ]
    },
    {
      "cell_type": "code",
      "execution_count": 1,
      "id": "f52e6a0b",
      "metadata": {
        "id": "f52e6a0b"
      },
      "outputs": [],
      "source": [
        "import numpy as np"
      ]
    },
    {
      "cell_type": "markdown",
      "id": "9d9f4753",
      "metadata": {
        "id": "9d9f4753"
      },
      "source": [
        "#### 2. Print the numpy version and the configuration (★☆☆)"
      ]
    },
    {
      "cell_type": "code",
      "execution_count": 3,
      "id": "b7fa5fa1",
      "metadata": {
        "id": "b7fa5fa1",
        "outputId": "e98f4b82-5d43-421d-a20f-ab3e970ef9fd",
        "colab": {
          "base_uri": "https://localhost:8080/"
        }
      },
      "outputs": [
        {
          "output_type": "stream",
          "name": "stdout",
          "text": [
            "NumPy Version: 1.22.4\n",
            "NumPy Configuration:\n",
            "openblas64__info:\n",
            "    libraries = ['openblas64_', 'openblas64_']\n",
            "    library_dirs = ['/usr/local/lib']\n",
            "    language = c\n",
            "    define_macros = [('HAVE_CBLAS', None), ('BLAS_SYMBOL_SUFFIX', '64_'), ('HAVE_BLAS_ILP64', None)]\n",
            "    runtime_library_dirs = ['/usr/local/lib']\n",
            "blas_ilp64_opt_info:\n",
            "    libraries = ['openblas64_', 'openblas64_']\n",
            "    library_dirs = ['/usr/local/lib']\n",
            "    language = c\n",
            "    define_macros = [('HAVE_CBLAS', None), ('BLAS_SYMBOL_SUFFIX', '64_'), ('HAVE_BLAS_ILP64', None)]\n",
            "    runtime_library_dirs = ['/usr/local/lib']\n",
            "openblas64__lapack_info:\n",
            "    libraries = ['openblas64_', 'openblas64_']\n",
            "    library_dirs = ['/usr/local/lib']\n",
            "    language = c\n",
            "    define_macros = [('HAVE_CBLAS', None), ('BLAS_SYMBOL_SUFFIX', '64_'), ('HAVE_BLAS_ILP64', None), ('HAVE_LAPACKE', None)]\n",
            "    runtime_library_dirs = ['/usr/local/lib']\n",
            "lapack_ilp64_opt_info:\n",
            "    libraries = ['openblas64_', 'openblas64_']\n",
            "    library_dirs = ['/usr/local/lib']\n",
            "    language = c\n",
            "    define_macros = [('HAVE_CBLAS', None), ('BLAS_SYMBOL_SUFFIX', '64_'), ('HAVE_BLAS_ILP64', None), ('HAVE_LAPACKE', None)]\n",
            "    runtime_library_dirs = ['/usr/local/lib']\n",
            "Supported SIMD extensions in this NumPy install:\n",
            "    baseline = SSE,SSE2,SSE3\n",
            "    found = SSSE3,SSE41,POPCNT,SSE42,AVX,F16C,FMA3,AVX2\n",
            "    not found = AVX512F,AVX512CD,AVX512_KNL,AVX512_KNM,AVX512_SKX,AVX512_CLX,AVX512_CNL,AVX512_ICL\n",
            "None\n"
          ]
        }
      ],
      "source": [
        "import numpy as np\n",
        "\n",
        "print(\"NumPy Version:\", np.__version__)\n",
        "print(\"NumPy Configuration:\")\n",
        "print(np.show_config())"
      ]
    },
    {
      "cell_type": "markdown",
      "id": "3e4c23c6",
      "metadata": {
        "id": "3e4c23c6"
      },
      "source": [
        "#### 3. Create a null vector of size 10 (★☆☆)"
      ]
    },
    {
      "cell_type": "code",
      "execution_count": 4,
      "id": "083c5c46",
      "metadata": {
        "id": "083c5c46",
        "outputId": "bbb9a58a-ee1f-4d11-e182-845abae32d11",
        "colab": {
          "base_uri": "https://localhost:8080/"
        }
      },
      "outputs": [
        {
          "output_type": "stream",
          "name": "stdout",
          "text": [
            "[0. 0. 0. 0. 0. 0. 0. 0. 0. 0.]\n"
          ]
        }
      ],
      "source": [
        "import numpy as np\n",
        "\n",
        "null_vector = np.zeros(10)\n",
        "print(null_vector)"
      ]
    },
    {
      "cell_type": "markdown",
      "id": "c38bbe82",
      "metadata": {
        "id": "c38bbe82"
      },
      "source": [
        "#### 4. How to find the memory size of any array (★☆☆)"
      ]
    },
    {
      "cell_type": "code",
      "execution_count": 5,
      "id": "02b04021",
      "metadata": {
        "id": "02b04021",
        "outputId": "491a1f45-92a7-4074-ce63-c885de8a128d",
        "colab": {
          "base_uri": "https://localhost:8080/"
        }
      },
      "outputs": [
        {
          "output_type": "stream",
          "name": "stdout",
          "text": [
            "Memory size of the array: 40 bytes\n"
          ]
        }
      ],
      "source": [
        "import numpy as np\n",
        "\n",
        "array = np.array([1, 2, 3, 4, 5])\n",
        "memory_size = array.nbytes\n",
        "print(\"Memory size of the array:\", memory_size, \"bytes\")"
      ]
    },
    {
      "cell_type": "markdown",
      "id": "67f893d4",
      "metadata": {
        "id": "67f893d4"
      },
      "source": [
        "#### 5. How to get the documentation of the numpy add function from the command line? (★☆☆)"
      ]
    },
    {
      "cell_type": "code",
      "execution_count": 6,
      "id": "40e6b70d",
      "metadata": {
        "id": "40e6b70d",
        "colab": {
          "base_uri": "https://localhost:8080/"
        },
        "outputId": "9074a32c-44ba-437d-9c77-96fbb32991a5"
      },
      "outputs": [
        {
          "output_type": "stream",
          "name": "stdout",
          "text": [
            "Help on ufunc:\n",
            "\n",
            "add = <ufunc 'add'>\n",
            "    add(x1, x2, /, out=None, *, where=True, casting='same_kind', order='K', dtype=None, subok=True[, signature, extobj])\n",
            "    \n",
            "    Add arguments element-wise.\n",
            "    \n",
            "    Parameters\n",
            "    ----------\n",
            "    x1, x2 : array_like\n",
            "        The arrays to be added.\n",
            "        If ``x1.shape != x2.shape``, they must be broadcastable to a common\n",
            "        shape (which becomes the shape of the output).\n",
            "    out : ndarray, None, or tuple of ndarray and None, optional\n",
            "        A location into which the result is stored. If provided, it must have\n",
            "        a shape that the inputs broadcast to. If not provided or None,\n",
            "        a freshly-allocated array is returned. A tuple (possible only as a\n",
            "        keyword argument) must have length equal to the number of outputs.\n",
            "    where : array_like, optional\n",
            "        This condition is broadcast over the input. At locations where the\n",
            "        condition is True, the `out` array will be set to the ufunc result.\n",
            "        Elsewhere, the `out` array will retain its original value.\n",
            "        Note that if an uninitialized `out` array is created via the default\n",
            "        ``out=None``, locations within it where the condition is False will\n",
            "        remain uninitialized.\n",
            "    **kwargs\n",
            "        For other keyword-only arguments, see the\n",
            "        :ref:`ufunc docs <ufuncs.kwargs>`.\n",
            "    \n",
            "    Returns\n",
            "    -------\n",
            "    add : ndarray or scalar\n",
            "        The sum of `x1` and `x2`, element-wise.\n",
            "        This is a scalar if both `x1` and `x2` are scalars.\n",
            "    \n",
            "    Notes\n",
            "    -----\n",
            "    Equivalent to `x1` + `x2` in terms of array broadcasting.\n",
            "    \n",
            "    Examples\n",
            "    --------\n",
            "    >>> np.add(1.0, 4.0)\n",
            "    5.0\n",
            "    >>> x1 = np.arange(9.0).reshape((3, 3))\n",
            "    >>> x2 = np.arange(3.0)\n",
            "    >>> np.add(x1, x2)\n",
            "    array([[  0.,   2.,   4.],\n",
            "           [  3.,   5.,   7.],\n",
            "           [  6.,   8.,  10.]])\n",
            "    \n",
            "    The ``+`` operator can be used as a shorthand for ``np.add`` on ndarrays.\n",
            "    \n",
            "    >>> x1 = np.arange(9.0).reshape((3, 3))\n",
            "    >>> x2 = np.arange(3.0)\n",
            "    >>> x1 + x2\n",
            "    array([[ 0.,  2.,  4.],\n",
            "           [ 3.,  5.,  7.],\n",
            "           [ 6.,  8., 10.]])\n",
            "\n"
          ]
        }
      ],
      "source": [
        "import numpy as np\n",
        "\n",
        "help(np.add)"
      ]
    },
    {
      "cell_type": "markdown",
      "id": "e0c739c6",
      "metadata": {
        "id": "e0c739c6"
      },
      "source": [
        "#### 6. Create a null vector of size 10 but the fifth value which is 1 (★☆☆)"
      ]
    },
    {
      "cell_type": "code",
      "execution_count": 7,
      "id": "bcceacf7",
      "metadata": {
        "id": "bcceacf7",
        "colab": {
          "base_uri": "https://localhost:8080/"
        },
        "outputId": "5bb58cf0-493f-43eb-a966-e246dd462aee"
      },
      "outputs": [
        {
          "output_type": "stream",
          "name": "stdout",
          "text": [
            "[0. 0. 0. 0. 1. 0. 0. 0. 0. 0.]\n"
          ]
        }
      ],
      "source": [
        "import numpy as np\n",
        "\n",
        "null_vector = np.zeros(10)\n",
        "null_vector[4] = 1\n",
        "print(null_vector)"
      ]
    },
    {
      "cell_type": "markdown",
      "id": "fbebedab",
      "metadata": {
        "id": "fbebedab"
      },
      "source": [
        "#### 7. Create a vector with values ranging from 10 to 49 (★☆☆)"
      ]
    },
    {
      "cell_type": "code",
      "execution_count": null,
      "id": "3d117d54",
      "metadata": {
        "id": "3d117d54"
      },
      "outputs": [],
      "source": []
    },
    {
      "cell_type": "markdown",
      "id": "ad0bff02",
      "metadata": {
        "id": "ad0bff02"
      },
      "source": [
        "#### 8. Reverse a vector (first element becomes last) (★☆☆)"
      ]
    },
    {
      "cell_type": "code",
      "execution_count": null,
      "id": "22d23470",
      "metadata": {
        "id": "22d23470"
      },
      "outputs": [],
      "source": []
    },
    {
      "cell_type": "markdown",
      "id": "9f59d7e1",
      "metadata": {
        "id": "9f59d7e1"
      },
      "source": [
        "#### 9. Create a 3x3 matrix with values ranging from 0 to 8 (★☆☆)"
      ]
    },
    {
      "cell_type": "code",
      "execution_count": null,
      "id": "7449e82d",
      "metadata": {
        "id": "7449e82d"
      },
      "outputs": [],
      "source": []
    },
    {
      "cell_type": "markdown",
      "id": "f374c4cf",
      "metadata": {
        "id": "f374c4cf"
      },
      "source": [
        "#### 10. Find indices of non-zero elements from [1,2,0,0,4,0] (★☆☆)"
      ]
    },
    {
      "cell_type": "code",
      "execution_count": null,
      "id": "1a84bed8",
      "metadata": {
        "id": "1a84bed8"
      },
      "outputs": [],
      "source": []
    },
    {
      "cell_type": "markdown",
      "id": "9c4707f5",
      "metadata": {
        "id": "9c4707f5"
      },
      "source": [
        "#### 11. Create a 3x3 identity matrix (★☆☆)"
      ]
    },
    {
      "cell_type": "code",
      "execution_count": null,
      "id": "29dc1fd3",
      "metadata": {
        "id": "29dc1fd3"
      },
      "outputs": [],
      "source": []
    },
    {
      "cell_type": "markdown",
      "id": "3bac294a",
      "metadata": {
        "id": "3bac294a"
      },
      "source": [
        "#### 12. Create a 3x3x3 array with random values (★☆☆)"
      ]
    },
    {
      "cell_type": "code",
      "execution_count": null,
      "id": "eadfae67",
      "metadata": {
        "id": "eadfae67"
      },
      "outputs": [],
      "source": []
    },
    {
      "cell_type": "markdown",
      "id": "466c2989",
      "metadata": {
        "id": "466c2989"
      },
      "source": [
        "#### 13. Create a 10x10 array with random values and find the minimum and maximum values (★☆☆)"
      ]
    },
    {
      "cell_type": "code",
      "execution_count": null,
      "id": "9a74dbfc",
      "metadata": {
        "id": "9a74dbfc"
      },
      "outputs": [],
      "source": []
    },
    {
      "cell_type": "markdown",
      "id": "53a8edb2",
      "metadata": {
        "id": "53a8edb2"
      },
      "source": [
        "#### 14. Create a random vector of size 30 and find the mean value (★☆☆)"
      ]
    },
    {
      "cell_type": "code",
      "execution_count": null,
      "id": "6691530b",
      "metadata": {
        "id": "6691530b"
      },
      "outputs": [],
      "source": []
    },
    {
      "cell_type": "markdown",
      "id": "cbaad31c",
      "metadata": {
        "id": "cbaad31c"
      },
      "source": [
        "#### 15. Create a 2d array with 1 on the border and 0 inside (★☆☆)"
      ]
    },
    {
      "cell_type": "code",
      "execution_count": null,
      "id": "ad8308e3",
      "metadata": {
        "id": "ad8308e3"
      },
      "outputs": [],
      "source": []
    },
    {
      "cell_type": "markdown",
      "id": "c5ecc267",
      "metadata": {
        "id": "c5ecc267"
      },
      "source": [
        "#### 16. How to add a border (filled with 0's) around an existing array? (★☆☆)"
      ]
    },
    {
      "cell_type": "code",
      "execution_count": null,
      "id": "9d5c78c4",
      "metadata": {
        "id": "9d5c78c4"
      },
      "outputs": [],
      "source": []
    },
    {
      "cell_type": "markdown",
      "id": "ef909b72",
      "metadata": {
        "id": "ef909b72"
      },
      "source": [
        "#### 17. What is the result of the following expression? (★☆☆)\n",
        "```python\n",
        "0 * np.nan\n",
        "np.nan == np.nan\n",
        "np.inf > np.nan\n",
        "np.nan - np.nan\n",
        "np.nan in set([np.nan])\n",
        "0.3 == 3 * 0.1\n",
        "```"
      ]
    },
    {
      "cell_type": "code",
      "execution_count": null,
      "id": "3b4985f2",
      "metadata": {
        "id": "3b4985f2",
        "colab": {
          "base_uri": "https://localhost:8080/"
        },
        "outputId": "89c73c60-0c94-422d-aa49-37e859b5dce8"
      },
      "outputs": [
        {
          "output_type": "execute_result",
          "data": {
            "text/plain": [
              "False"
            ]
          },
          "metadata": {},
          "execution_count": 5
        }
      ],
      "source": [
        "import numpy as np\n",
        "0 * np.nan\n",
        "np.nan == np.nan\n",
        "np.inf > np.nan\n",
        "np.nan - np.nan\n",
        "np.nan in set([np.nan])\n",
        "0.3 == 3 * 0.1\n"
      ]
    },
    {
      "cell_type": "markdown",
      "id": "502738ac",
      "metadata": {
        "id": "502738ac"
      },
      "source": [
        "#### 18. Create a 5x5 matrix with values 1,2,3,4 just below the diagonal (★☆☆)"
      ]
    },
    {
      "cell_type": "code",
      "execution_count": null,
      "id": "faed6e2b",
      "metadata": {
        "id": "faed6e2b"
      },
      "outputs": [],
      "source": []
    },
    {
      "cell_type": "markdown",
      "id": "a65da660",
      "metadata": {
        "id": "a65da660"
      },
      "source": [
        "#### 19. Create a 8x8 matrix and fill it with a checkerboard pattern (★☆☆)"
      ]
    },
    {
      "cell_type": "code",
      "execution_count": null,
      "id": "ed150400",
      "metadata": {
        "id": "ed150400"
      },
      "outputs": [],
      "source": []
    },
    {
      "cell_type": "markdown",
      "id": "9f7f9c49",
      "metadata": {
        "id": "9f7f9c49"
      },
      "source": [
        "#### 20. Consider a (6,7,8) shape array, what is the index (x,y,z) of the 100th element? (★☆☆)"
      ]
    },
    {
      "cell_type": "code",
      "execution_count": null,
      "id": "3782b5a9",
      "metadata": {
        "id": "3782b5a9"
      },
      "outputs": [],
      "source": []
    },
    {
      "cell_type": "markdown",
      "id": "66bfda35",
      "metadata": {
        "id": "66bfda35"
      },
      "source": [
        "#### 21. Create a checkerboard 8x8 matrix using the tile function (★☆☆)"
      ]
    },
    {
      "cell_type": "code",
      "execution_count": null,
      "id": "4c07477c",
      "metadata": {
        "id": "4c07477c"
      },
      "outputs": [],
      "source": []
    },
    {
      "cell_type": "markdown",
      "id": "d5bcfc08",
      "metadata": {
        "id": "d5bcfc08"
      },
      "source": [
        "#### 22. Normalize a 5x5 random matrix (★☆☆)"
      ]
    },
    {
      "cell_type": "code",
      "execution_count": null,
      "id": "cea6c993",
      "metadata": {
        "id": "cea6c993"
      },
      "outputs": [],
      "source": []
    },
    {
      "cell_type": "markdown",
      "id": "f9a0911e",
      "metadata": {
        "id": "f9a0911e"
      },
      "source": [
        "#### 23. Create a custom dtype that describes a color as four unsigned bytes (RGBA) (★☆☆)"
      ]
    },
    {
      "cell_type": "code",
      "execution_count": 18,
      "id": "d165044b",
      "metadata": {
        "id": "d165044b",
        "colab": {
          "base_uri": "https://localhost:8080/"
        },
        "outputId": "47de1a2f-a314-47a4-febf-a4faa2d137f2"
      },
      "outputs": [
        {
          "output_type": "stream",
          "name": "stdout",
          "text": [
            "RGBA Color Data:\n",
            "[(255,   0,   0, 255) (  0, 255,   0, 128) (  0,   0, 255,   0)]\n"
          ]
        }
      ],
      "source": [
        "import numpy as np\n",
        "\n",
        "color_dtype = np.dtype([('R', np.uint8), ('G', np.uint8), ('B', np.uint8), ('A', np.uint8)])\n",
        "color_data = np.array([(255, 0, 0, 255),\n",
        "                       (0, 255, 0, 128),\n",
        "                       (0, 0, 255, 0)],\n",
        "                      dtype=color_dtype)\n",
        "\n",
        "print(\"RGBA Color Data:\")\n",
        "print(color_data)"
      ]
    },
    {
      "cell_type": "markdown",
      "id": "654805b1",
      "metadata": {
        "id": "654805b1"
      },
      "source": [
        "#### 24. Multiply a 5x3 matrix by a 3x2 matrix (real matrix product) (★☆☆)"
      ]
    },
    {
      "cell_type": "code",
      "execution_count": 17,
      "id": "6a42619f",
      "metadata": {
        "id": "6a42619f",
        "colab": {
          "base_uri": "https://localhost:8080/"
        },
        "outputId": "da0e8aa6-3940-4203-9d9e-36cbfa76e5f5"
      },
      "outputs": [
        {
          "output_type": "stream",
          "name": "stdout",
          "text": [
            "Matrix1:\n",
            "[[ 1  2  3]\n",
            " [ 4  5  6]\n",
            " [ 7  8  9]\n",
            " [10 11 12]\n",
            " [13 14 15]]\n",
            "\n",
            "Matrix2:\n",
            "[[1 2]\n",
            " [3 4]\n",
            " [5 6]]\n",
            "\n",
            "Result using dot function:\n",
            "[[ 22  28]\n",
            " [ 49  64]\n",
            " [ 76 100]\n",
            " [103 136]\n",
            " [130 172]]\n",
            "\n",
            "Result using @ operator (matrix multiplication operator):\n",
            "[[ 22  28]\n",
            " [ 49  64]\n",
            " [ 76 100]\n",
            " [103 136]\n",
            " [130 172]]\n"
          ]
        }
      ],
      "source": [
        "import numpy as np\n",
        "\n",
        "matrix1 = np.array([[1, 2, 3],\n",
        "                    [4, 5, 6],\n",
        "                    [7, 8, 9],\n",
        "                    [10, 11, 12],\n",
        "                    [13, 14, 15]])\n",
        "\n",
        "matrix2 = np.array([[1, 2],\n",
        "                    [3, 4],\n",
        "                    [5, 6]])\n",
        "\n",
        "result_dot = np.dot(matrix1, matrix2)\n",
        "result_operator = matrix1 @ matrix2\n",
        "\n",
        "print(\"Matrix1:\")\n",
        "print(matrix1)\n",
        "\n",
        "print(\"\\nMatrix2:\")\n",
        "print(matrix2)\n",
        "\n",
        "print(\"\\nResult using dot function:\")\n",
        "print(result_dot)\n",
        "\n",
        "print(\"\\nResult using @ operator (matrix multiplication operator):\")\n",
        "print(result_operator)"
      ]
    },
    {
      "cell_type": "markdown",
      "id": "994c25df",
      "metadata": {
        "id": "994c25df"
      },
      "source": [
        "#### 25. Given a 1D array, negate all elements which are between 3 and 8, in place. (★☆☆)"
      ]
    },
    {
      "cell_type": "code",
      "execution_count": 16,
      "id": "e4b39c03",
      "metadata": {
        "id": "e4b39c03",
        "colab": {
          "base_uri": "https://localhost:8080/"
        },
        "outputId": "76adf78c-32f1-4d78-c4b5-ec491f10e504"
      },
      "outputs": [
        {
          "output_type": "stream",
          "name": "stdout",
          "text": [
            "Original Array: [ 1 -4 -6  9  2 -7 -5 10]\n"
          ]
        }
      ],
      "source": [
        "import numpy as np\n",
        "\n",
        "arr = np.array([1, 4, 6, 9, 2, 7, 5, 10])\n",
        "mask = (arr >= 3) & (arr <= 8)\n",
        "arr[mask] = -arr[mask]\n",
        "\n",
        "print(\"Original Array:\", arr)"
      ]
    },
    {
      "cell_type": "markdown",
      "id": "b7d15d1a",
      "metadata": {
        "id": "b7d15d1a"
      },
      "source": [
        "#### 26. What is the output of the following script? (★☆☆)\n",
        "```python\n",
        "# Author: Jake VanderPlas\n",
        "\n",
        "print(sum(range(5),-1))\n",
        "from numpy import *\n",
        "print(sum(range(5),-1))\n",
        "```"
      ]
    },
    {
      "cell_type": "code",
      "execution_count": null,
      "id": "4c95bc3f",
      "metadata": {
        "id": "4c95bc3f",
        "colab": {
          "base_uri": "https://localhost:8080/"
        },
        "outputId": "27c73770-f51f-4571-968e-39e1911db292"
      },
      "outputs": [
        {
          "output_type": "stream",
          "name": "stdout",
          "text": [
            "9\n",
            "10\n"
          ]
        }
      ],
      "source": [
        "print(sum(range(5),-1))\n",
        "from numpy import *\n",
        "print(sum(range(5),-1))"
      ]
    },
    {
      "cell_type": "markdown",
      "id": "a34f0d08",
      "metadata": {
        "id": "a34f0d08"
      },
      "source": [
        "#### 27. Consider an integer vector Z, which of these expressions are legal? (★☆☆)\n",
        "```python\n",
        "Z**Z\n",
        "2 << Z >> 2\n",
        "Z <- Z\n",
        "1j*Z\n",
        "Z/1/1\n",
        "Z<Z>Z\n",
        "```"
      ]
    },
    {
      "cell_type": "code",
      "execution_count": 15,
      "id": "564658fc",
      "metadata": {
        "id": "564658fc",
        "colab": {
          "base_uri": "https://localhost:8080/",
          "height": 236
        },
        "outputId": "cb28bbec-2f2f-4e5a-c772-2f89ec71b415"
      },
      "outputs": [
        {
          "output_type": "error",
          "ename": "NameError",
          "evalue": "ignored",
          "traceback": [
            "\u001b[0;31m---------------------------------------------------------------------------\u001b[0m",
            "\u001b[0;31mNameError\u001b[0m                                 Traceback (most recent call last)",
            "\u001b[0;32m<ipython-input-15-e7664f35c902>\u001b[0m in \u001b[0;36m<cell line: 2>\u001b[0;34m()\u001b[0m\n\u001b[1;32m      1\u001b[0m \u001b[0;31m# Z**Z  #Illegal\u001b[0m\u001b[0;34m\u001b[0m\u001b[0;34m\u001b[0m\u001b[0m\n\u001b[0;32m----> 2\u001b[0;31m \u001b[0;36m2\u001b[0m \u001b[0;34m<<\u001b[0m \u001b[0mZ\u001b[0m \u001b[0;34m>>\u001b[0m \u001b[0;36m2\u001b[0m\u001b[0;34m\u001b[0m\u001b[0;34m\u001b[0m\u001b[0m\n\u001b[0m\u001b[1;32m      3\u001b[0m \u001b[0mZ\u001b[0m \u001b[0;34m<\u001b[0m\u001b[0;34m-\u001b[0m \u001b[0mZ\u001b[0m\u001b[0;34m\u001b[0m\u001b[0;34m\u001b[0m\u001b[0m\n\u001b[1;32m      4\u001b[0m \u001b[0;36m1j\u001b[0m\u001b[0;34m*\u001b[0m\u001b[0mZ\u001b[0m\u001b[0;34m\u001b[0m\u001b[0;34m\u001b[0m\u001b[0m\n\u001b[1;32m      5\u001b[0m \u001b[0mZ\u001b[0m\u001b[0;34m/\u001b[0m\u001b[0;36m1\u001b[0m\u001b[0;34m/\u001b[0m\u001b[0;36m1\u001b[0m\u001b[0;34m\u001b[0m\u001b[0;34m\u001b[0m\u001b[0m\n",
            "\u001b[0;31mNameError\u001b[0m: name 'Z' is not defined"
          ]
        }
      ],
      "source": [
        "# Z**Z  #Illegal\n",
        "2 << Z >> 2\n",
        "Z <- Z\n",
        "1j*Z\n",
        "Z/1/1\n",
        "Z<Z>Z"
      ]
    },
    {
      "cell_type": "markdown",
      "id": "c34e94bf",
      "metadata": {
        "id": "c34e94bf"
      },
      "source": [
        "#### 28. What are the result of the following expressions? (★☆☆)\n",
        "```python\n",
        "np.array(0) / np.array(0)\n",
        "np.array(0) // np.array(0)\n",
        "np.array([np.nan]).astype(int).astype(float)\n",
        "```"
      ]
    },
    {
      "cell_type": "code",
      "execution_count": 13,
      "id": "56663562",
      "metadata": {
        "id": "56663562",
        "colab": {
          "base_uri": "https://localhost:8080/"
        },
        "outputId": "85b073ee-a684-48b0-8557-6d9ec38ea909"
      },
      "outputs": [
        {
          "output_type": "stream",
          "name": "stderr",
          "text": [
            "<ipython-input-13-cd809174da5d>:1: RuntimeWarning: invalid value encountered in true_divide\n",
            "  np.array(0) / np.array(0)\n",
            "<ipython-input-13-cd809174da5d>:2: RuntimeWarning: divide by zero encountered in floor_divide\n",
            "  np.array(0) // np.array(0)\n"
          ]
        },
        {
          "output_type": "execute_result",
          "data": {
            "text/plain": [
              "array([-9.22337204e+18])"
            ]
          },
          "metadata": {},
          "execution_count": 13
        }
      ],
      "source": [
        "np.array(0) / np.array(0)\n",
        "np.array(0) // np.array(0)\n",
        "np.array([np.nan]).astype(int).astype(float)"
      ]
    },
    {
      "cell_type": "markdown",
      "id": "546f5e7b",
      "metadata": {
        "id": "546f5e7b"
      },
      "source": [
        "#### 29. How to round away from zero a float array ? (★☆☆)"
      ]
    },
    {
      "cell_type": "code",
      "execution_count": 12,
      "id": "f725a6d2",
      "metadata": {
        "id": "f725a6d2",
        "colab": {
          "base_uri": "https://localhost:8080/"
        },
        "outputId": "653ca208-38ce-466d-cbf3-2ec3bf16aaff"
      },
      "outputs": [
        {
          "output_type": "stream",
          "name": "stdout",
          "text": [
            "Original Float Array: [-1.5  2.3 -3.8  4.5 -5.2]\n",
            "Rounded Array (Away from Zero): [-2.  3. -4.  5. -6.]\n"
          ]
        }
      ],
      "source": [
        "import numpy as np\n",
        "\n",
        "float_array = np.array([-1.5, 2.3, -3.8, 4.5, -5.2])\n",
        "rounded_array = np.where(float_array >= 0, np.ceil(float_array), np.floor(float_array))\n",
        "\n",
        "print(\"Original Float Array:\", float_array)\n",
        "print(\"Rounded Array (Away from Zero):\", rounded_array)"
      ]
    },
    {
      "cell_type": "markdown",
      "id": "eadca856",
      "metadata": {
        "id": "eadca856"
      },
      "source": [
        "#### 30. How to find common values between two arrays? (★☆☆)"
      ]
    },
    {
      "cell_type": "code",
      "execution_count": 11,
      "id": "e0270b5b",
      "metadata": {
        "id": "e0270b5b",
        "colab": {
          "base_uri": "https://localhost:8080/"
        },
        "outputId": "b272e3ae-538f-4837-cc3e-007348cffbaa"
      },
      "outputs": [
        {
          "output_type": "stream",
          "name": "stdout",
          "text": [
            "Array 1: [1 2 3 4 5]\n",
            "Array 2: [3 4 5 6 7]\n",
            "Common Values: [3 4 5]\n"
          ]
        }
      ],
      "source": [
        "import numpy as np\n",
        "\n",
        "array1 = np.array([1, 2, 3, 4, 5])\n",
        "array2 = np.array([3, 4, 5, 6, 7])\n",
        "common_values = np.intersect1d(array1, array2)\n",
        "\n",
        "print(\"Array 1:\", array1)\n",
        "print(\"Array 2:\", array2)\n",
        "print(\"Common Values:\", common_values)"
      ]
    },
    {
      "cell_type": "markdown",
      "id": "ca16ca22",
      "metadata": {
        "id": "ca16ca22"
      },
      "source": [
        "#### 31. How to ignore all numpy warnings (not recommended)? (★☆☆)"
      ]
    },
    {
      "cell_type": "code",
      "execution_count": null,
      "id": "7d7208ef",
      "metadata": {
        "id": "7d7208ef"
      },
      "outputs": [],
      "source": [
        "import numpy as np\n",
        "import warnings\n",
        "\n",
        "# Temporarily ignore all NumPy warnings\n",
        "warnings.filterwarnings(\"ignore\", category=np.VisibleDeprecationWarning)\n",
        "warnings.filterwarnings(\"ignore\", category=np.RankWarning)\n",
        "warnings.filterwarnings(\"ignore\", category=np.FloatingPointError)\n",
        "\n",
        "warnings.resetwarnings()"
      ]
    },
    {
      "cell_type": "markdown",
      "id": "c7871d0d",
      "metadata": {
        "id": "c7871d0d"
      },
      "source": [
        "#### 32. Is the following expressions true? (★☆☆)\n",
        "```python\n",
        "np.sqrt(-1) == np.emath.sqrt(-1)\n",
        "```"
      ]
    },
    {
      "cell_type": "code",
      "execution_count": 9,
      "id": "acc3701a",
      "metadata": {
        "id": "acc3701a",
        "colab": {
          "base_uri": "https://localhost:8080/"
        },
        "outputId": "118332aa-d8e5-4640-95fb-3705fef07035"
      },
      "outputs": [
        {
          "output_type": "stream",
          "name": "stderr",
          "text": [
            "<ipython-input-9-16339fbc685e>:1: RuntimeWarning: invalid value encountered in sqrt\n",
            "  np.sqrt(-1) == np.emath.sqrt(-1)\n"
          ]
        },
        {
          "output_type": "execute_result",
          "data": {
            "text/plain": [
              "False"
            ]
          },
          "metadata": {},
          "execution_count": 9
        }
      ],
      "source": [
        "np.sqrt(-1) == np.emath.sqrt(-1)"
      ]
    },
    {
      "cell_type": "markdown",
      "id": "e0433e30",
      "metadata": {
        "id": "e0433e30"
      },
      "source": [
        "#### 33. How to get the dates of yesterday, today and tomorrow? (★☆☆)"
      ]
    },
    {
      "cell_type": "code",
      "execution_count": 8,
      "id": "9c4d2152",
      "metadata": {
        "id": "9c4d2152",
        "colab": {
          "base_uri": "https://localhost:8080/"
        },
        "outputId": "c267b0b3-a1c1-4099-f857-553d8033dbdc"
      },
      "outputs": [
        {
          "output_type": "stream",
          "name": "stdout",
          "text": [
            "Yesterday: 2023-07-23\n",
            "Today: 2023-07-24\n",
            "Tomorrow: 2023-07-25\n"
          ]
        }
      ],
      "source": [
        "from datetime import datetime, timedelta\n",
        "\n",
        "today = datetime.today().date()\n",
        "yesterday = today - timedelta(days=1)\n",
        "tomorrow = today + timedelta(days=1)\n",
        "\n",
        "print(\"Yesterday:\", yesterday)\n",
        "print(\"Today:\", today)\n",
        "print(\"Tomorrow:\", tomorrow)"
      ]
    },
    {
      "cell_type": "markdown",
      "id": "9f52a2ef",
      "metadata": {
        "id": "9f52a2ef"
      },
      "source": [
        "#### 34. How to get all the dates corresponding to the month of July 2016? (★★☆)"
      ]
    },
    {
      "cell_type": "code",
      "execution_count": null,
      "id": "d6c34dec",
      "metadata": {
        "id": "d6c34dec",
        "colab": {
          "base_uri": "https://localhost:8080/"
        },
        "outputId": "655d5d1e-3309-47fb-ca75-0d058101a739"
      },
      "outputs": [
        {
          "output_type": "stream",
          "name": "stdout",
          "text": [
            "[datetime.date(2016, 7, 1), datetime.date(2016, 7, 2), datetime.date(2016, 7, 3), datetime.date(2016, 7, 4), datetime.date(2016, 7, 5), datetime.date(2016, 7, 6), datetime.date(2016, 7, 7), datetime.date(2016, 7, 8), datetime.date(2016, 7, 9), datetime.date(2016, 7, 10), datetime.date(2016, 7, 11), datetime.date(2016, 7, 12), datetime.date(2016, 7, 13), datetime.date(2016, 7, 14), datetime.date(2016, 7, 15), datetime.date(2016, 7, 16), datetime.date(2016, 7, 17), datetime.date(2016, 7, 18), datetime.date(2016, 7, 19), datetime.date(2016, 7, 20), datetime.date(2016, 7, 21), datetime.date(2016, 7, 22), datetime.date(2016, 7, 23), datetime.date(2016, 7, 24), datetime.date(2016, 7, 25), datetime.date(2016, 7, 26), datetime.date(2016, 7, 27), datetime.date(2016, 7, 28), datetime.date(2016, 7, 29), datetime.date(2016, 7, 30), datetime.date(2016, 7, 31)]\n"
          ]
        }
      ],
      "source": [
        "import calendar\n",
        "from datetime import date\n",
        "\n",
        "def getDatesInJuly2016():\n",
        "    year = 2016\n",
        "    month = 7\n",
        "\n",
        "    numDaysInJuly = calendar.monthrange(year, month)[1]\n",
        "\n",
        "    datesInJuly2016 = []\n",
        "\n",
        "    for day in range(1, numDaysInJuly + 1):\n",
        "        date_object = date(year, month, day)\n",
        "        datesInJuly2016.append(date_object)\n",
        "\n",
        "    return datesInJuly2016\n",
        "\n",
        "datesJuly2016 = getDatesInJuly2016()\n",
        "print(datesJuly2016)"
      ]
    },
    {
      "cell_type": "markdown",
      "id": "4a64e059",
      "metadata": {
        "id": "4a64e059"
      },
      "source": [
        "#### 35. How to compute ((A+B)*(-A/2)) in place (without copy)? (★★☆)"
      ]
    },
    {
      "cell_type": "code",
      "execution_count": null,
      "id": "49267f60",
      "metadata": {
        "id": "49267f60",
        "colab": {
          "base_uri": "https://localhost:8080/"
        },
        "outputId": "2840ba08-5479-46c1-cfdb-0dce03871d4b"
      },
      "outputs": [
        {
          "output_type": "stream",
          "name": "stdout",
          "text": [
            "5\n"
          ]
        }
      ],
      "source": [
        "def compute_in_place(A, B):\n",
        "    A += B\n",
        "    A *= -A/2\n",
        "\n",
        "A = 5\n",
        "B = 10\n",
        "compute_in_place(A, B)\n",
        "print(A)\n"
      ]
    },
    {
      "cell_type": "markdown",
      "id": "8a98c2a8",
      "metadata": {
        "id": "8a98c2a8"
      },
      "source": [
        "#### 36. Extract the integer part of a random array of positive numbers using 4 different methods (★★☆)"
      ]
    },
    {
      "cell_type": "code",
      "execution_count": null,
      "id": "368130b3",
      "metadata": {
        "id": "368130b3",
        "colab": {
          "base_uri": "https://localhost:8080/"
        },
        "outputId": "ec2eae33-1771-43b5-e502-4092866e0f22"
      },
      "outputs": [
        {
          "output_type": "stream",
          "name": "stdout",
          "text": [
            "Method 1: [31, 31, 15, 32, 10, 62, 62, 22, 61, 61]\n"
          ]
        }
      ],
      "source": [
        "import random\n",
        "\n",
        "# Generate a random array of positive numbers\n",
        "randomArray = [random.uniform(0, 100) for _ in range(10)]\n",
        "\n",
        "# Method 1: Using a for loop and converting each element to an integer\n",
        "integerPartMethod1 = []\n",
        "for num in randomArray:\n",
        "    integerPartMethod1.append(int(num))\n",
        "\n",
        "print(\"Method 1:\", integerPartMethod1)"
      ]
    },
    {
      "cell_type": "code",
      "source": [
        "# Method 2: Using a list comprehension with int() function\n",
        "integerPartMethod2 = [int(num) for num in randomArray]\n",
        "\n",
        "print(\"Method 2:\", integerPartMethod2)"
      ],
      "metadata": {
        "colab": {
          "base_uri": "https://localhost:8080/"
        },
        "id": "ruQ8kgH-MloX",
        "outputId": "4fdc01c9-d153-4932-aa31-259085cd5f37"
      },
      "id": "ruQ8kgH-MloX",
      "execution_count": null,
      "outputs": [
        {
          "output_type": "stream",
          "name": "stdout",
          "text": [
            "Method 2: [31, 31, 15, 32, 10, 62, 62, 22, 61, 61]\n"
          ]
        }
      ]
    },
    {
      "cell_type": "code",
      "source": [
        "import numpy as np\n",
        "\n",
        "# Convert the list to a numpy array (optional step if not already using numpy)\n",
        "randomArrayNP = np.array(randomArray)\n",
        "\n",
        "# Method 3: Using numpy floor() function\n",
        "integerPartMethod4 = np.floor(randomArrayNP).astype(int)\n",
        "\n",
        "print(\"Method 3:\", integerPartMethod4.tolist())"
      ],
      "metadata": {
        "colab": {
          "base_uri": "https://localhost:8080/"
        },
        "id": "AuDDMXxhMrHB",
        "outputId": "b4703e88-a63a-4697-977d-94b83383f0e3"
      },
      "id": "AuDDMXxhMrHB",
      "execution_count": null,
      "outputs": [
        {
          "output_type": "stream",
          "name": "stdout",
          "text": [
            "Method 3: [31, 31, 15, 32, 10, 62, 62, 22, 61, 61]\n"
          ]
        }
      ]
    },
    {
      "cell_type": "markdown",
      "id": "5a2e3d85",
      "metadata": {
        "id": "5a2e3d85"
      },
      "source": [
        "#### 37. Create a 5x5 matrix with row values ranging from 0 to 4 (★★☆)"
      ]
    },
    {
      "cell_type": "code",
      "execution_count": null,
      "id": "1d974e8f",
      "metadata": {
        "id": "1d974e8f",
        "colab": {
          "base_uri": "https://localhost:8080/"
        },
        "outputId": "92b80586-bafc-4d59-ba6e-098988377ad4"
      },
      "outputs": [
        {
          "output_type": "stream",
          "name": "stdout",
          "text": [
            "[[0 1 2 3 4]\n",
            " [0 1 2 3 4]\n",
            " [0 1 2 3 4]\n",
            " [0 1 2 3 4]\n",
            " [0 1 2 3 4]]\n"
          ]
        }
      ],
      "source": [
        "import numpy as np\n",
        "\n",
        "matrix = np.array([np.arange(5)] * 5)\n",
        "print(matrix)"
      ]
    },
    {
      "cell_type": "markdown",
      "id": "9720e2d5",
      "metadata": {
        "id": "9720e2d5"
      },
      "source": [
        "#### 38. Consider a generator function that generates 10 integers and use it to build an array (★☆☆)"
      ]
    },
    {
      "cell_type": "code",
      "execution_count": null,
      "id": "e5dd8fc9",
      "metadata": {
        "id": "e5dd8fc9",
        "colab": {
          "base_uri": "https://localhost:8080/"
        },
        "outputId": "76d5c063-5312-43a7-b66a-46296156c399"
      },
      "outputs": [
        {
          "output_type": "stream",
          "name": "stdout",
          "text": [
            "[0, 1, 2, 3, 4, 5, 6, 7, 8, 9]\n"
          ]
        }
      ],
      "source": [
        "def generate_integers():\n",
        "    count = 0\n",
        "    while count < 10:\n",
        "        yield count\n",
        "        count += 1\n",
        "\n",
        "result_array = list(generate_integers())\n",
        "print(result_array)"
      ]
    },
    {
      "cell_type": "markdown",
      "id": "c6f2c912",
      "metadata": {
        "id": "c6f2c912"
      },
      "source": [
        "#### 39. Create a vector of size 10 with values ranging from 0 to 1, both excluded (★★☆)"
      ]
    },
    {
      "cell_type": "code",
      "execution_count": null,
      "id": "6aaa27d3",
      "metadata": {
        "id": "6aaa27d3",
        "colab": {
          "base_uri": "https://localhost:8080/"
        },
        "outputId": "291322cc-5be1-407b-8a5e-d29eb39531c6"
      },
      "outputs": [
        {
          "output_type": "stream",
          "name": "stdout",
          "text": [
            "[0.1 0.2 0.3 0.4 0.5 0.6 0.7 0.8 0.9]\n"
          ]
        }
      ],
      "source": [
        "import numpy as np\n",
        "\n",
        "vector = np.linspace(0, 1, 10, endpoint=False)[1:]\n",
        "print(vector)"
      ]
    },
    {
      "cell_type": "markdown",
      "id": "a36d6ee4",
      "metadata": {
        "id": "a36d6ee4"
      },
      "source": [
        "#### 40. Create a random vector of size 10 and sort it (★★☆)"
      ]
    },
    {
      "cell_type": "code",
      "execution_count": 32,
      "id": "e589d216",
      "metadata": {
        "id": "e589d216",
        "colab": {
          "base_uri": "https://localhost:8080/"
        },
        "outputId": "67b7c703-b23d-4344-95e4-675263210346"
      },
      "outputs": [
        {
          "output_type": "stream",
          "name": "stdout",
          "text": [
            "Original Random Vector:\n",
            "[0.65496507 0.06009175 0.07243125 0.15989084 0.2764838  0.08762101\n",
            " 0.9882094  0.36130405 0.21491193 0.36119337]\n",
            "\n",
            "Sorted Vector:\n",
            "[0.06009175 0.07243125 0.08762101 0.15989084 0.21491193 0.2764838\n",
            " 0.36119337 0.36130405 0.65496507 0.9882094 ]\n"
          ]
        }
      ],
      "source": [
        "import numpy as np\n",
        "\n",
        "randomVector = np.random.rand(10)\n",
        "sortedVector = np.sort(randomVector)\n",
        "\n",
        "print(\"Original Random Vector:\")\n",
        "print(randomVector)\n",
        "\n",
        "print(\"\\nSorted Vector:\")\n",
        "print(sortedVector)"
      ]
    },
    {
      "cell_type": "markdown",
      "id": "0fb4ad68",
      "metadata": {
        "id": "0fb4ad68"
      },
      "source": [
        "#### 41. How to sum a small array faster than np.sum? (★★☆)"
      ]
    },
    {
      "cell_type": "code",
      "execution_count": null,
      "id": "a1ba05a0",
      "metadata": {
        "id": "a1ba05a0",
        "colab": {
          "base_uri": "https://localhost:8080/"
        },
        "outputId": "faf7c453-51ca-4888-ee26-c772681655c6"
      },
      "outputs": [
        {
          "output_type": "stream",
          "name": "stdout",
          "text": [
            "15\n"
          ]
        }
      ],
      "source": [
        "myArray = [1, 2, 3, 4, 5]\n",
        "result = sum(myArray)\n",
        "print(result)"
      ]
    },
    {
      "cell_type": "markdown",
      "id": "024ac365",
      "metadata": {
        "id": "024ac365"
      },
      "source": [
        "#### 42. Consider two random array A and B, check if they are equal (★★☆)"
      ]
    },
    {
      "cell_type": "code",
      "execution_count": 33,
      "id": "7db3846d",
      "metadata": {
        "id": "7db3846d",
        "colab": {
          "base_uri": "https://localhost:8080/"
        },
        "outputId": "4a290106-ffb7-4d9c-9e94-42c7b5f22830"
      },
      "outputs": [
        {
          "output_type": "stream",
          "name": "stdout",
          "text": [
            "Array A: [0.87059909 0.06754244 0.14550711 0.62824649 0.33996885]\n",
            "Array B: [0.15991258 0.93451262 0.8524582  0.35478155 0.08850194]\n",
            "Arrays A and B are not equal.\n"
          ]
        }
      ],
      "source": [
        "import numpy as np\n",
        "\n",
        "A = np.random.rand(5)\n",
        "B = np.random.rand(5)\n",
        "\n",
        "are_equal = np.array_equal(A, B)\n",
        "\n",
        "print(\"Array A:\", A)\n",
        "print(\"Array B:\", B)\n",
        "\n",
        "if are_equal:\n",
        "    print(\"Arrays A and B are equal.\")\n",
        "else:\n",
        "    print(\"Arrays A and B are not equal.\")"
      ]
    },
    {
      "cell_type": "markdown",
      "id": "c68d2401",
      "metadata": {
        "id": "c68d2401"
      },
      "source": [
        "#### 43. Make an array immutable (read-only) (★★☆)"
      ]
    },
    {
      "cell_type": "code",
      "execution_count": null,
      "id": "7828539d",
      "metadata": {
        "id": "7828539d",
        "colab": {
          "base_uri": "https://localhost:8080/"
        },
        "outputId": "f9544e0f-5766-428c-8106-dea15ec96153"
      },
      "outputs": [
        {
          "output_type": "stream",
          "name": "stdout",
          "text": [
            "1\n",
            "4\n"
          ]
        }
      ],
      "source": [
        "# Creating tuple\n",
        "my_immutable_array = (1, 2, 3, 4, 5)\n",
        "\n",
        "print(my_immutable_array[0])\n",
        "print(my_immutable_array[3])"
      ]
    },
    {
      "cell_type": "markdown",
      "id": "55df6280",
      "metadata": {
        "id": "55df6280"
      },
      "source": [
        "#### 44. Consider a random 10x2 matrix representing cartesian coordinates, convert them to polar coordinates (★★☆)"
      ]
    },
    {
      "cell_type": "code",
      "execution_count": null,
      "id": "f1c86ea0",
      "metadata": {
        "id": "f1c86ea0",
        "colab": {
          "base_uri": "https://localhost:8080/"
        },
        "outputId": "f2079ea8-794f-49ab-feb3-970c29b4e34c"
      },
      "outputs": [
        {
          "output_type": "stream",
          "name": "stdout",
          "text": [
            "Cartesian Coordinates:\n",
            "[[0.92229109 0.57245752]\n",
            " [0.5374958  0.87230801]\n",
            " [0.65053181 0.17536486]\n",
            " [0.17073697 0.11327122]\n",
            " [0.63103959 0.89406279]\n",
            " [0.95119303 0.32551194]\n",
            " [0.58405973 0.7944266 ]\n",
            " [0.40193223 0.51891585]\n",
            " [0.76455171 0.3609511 ]\n",
            " [0.13777799 0.44338902]]\n",
            "\n",
            "Polar Coordinates (r, θ in degrees):\n",
            "[[ 1.08550839 31.82749032]\n",
            " [ 1.0246087  58.35959542]\n",
            " [ 0.67375401 15.08669166]\n",
            " [ 0.20489383 33.56130159]\n",
            " [ 1.09433049 54.78512571]\n",
            " [ 1.0053488  18.89168434]\n",
            " [ 0.986022   53.6768009 ]\n",
            " [ 0.65637122 52.24001651]\n",
            " [ 0.84547325 25.27237832]\n",
            " [ 0.46430227 72.73797401]]\n"
          ]
        }
      ],
      "source": [
        "import numpy as np\n",
        "\n",
        "cartesian_coordinates = np.random.rand(10, 2)\n",
        "\n",
        "x_coordinates = cartesian_coordinates[:, 0]\n",
        "y_coordinates = cartesian_coordinates[:, 1]\n",
        "\n",
        "r_coordinates = np.sqrt(x_coordinates**2 + y_coordinates**2)\n",
        "theta_coordinates = np.arctan2(y_coordinates, x_coordinates)\n",
        "\n",
        "theta_coordinates_deg = np.degrees(theta_coordinates)\n",
        "\n",
        "polar_coordinates = np.column_stack((r_coordinates, theta_coordinates_deg))\n",
        "\n",
        "print(\"Cartesian Coordinates:\")\n",
        "print(cartesian_coordinates)\n",
        "\n",
        "print(\"\\nPolar Coordinates (r, θ in degrees):\")\n",
        "print(polar_coordinates)"
      ]
    },
    {
      "cell_type": "markdown",
      "id": "2f60f1ec",
      "metadata": {
        "id": "2f60f1ec"
      },
      "source": [
        "#### 45. Create random vector of size 10 and replace the maximum value by 0 (★★☆)"
      ]
    },
    {
      "cell_type": "code",
      "execution_count": null,
      "id": "d9f48f1c",
      "metadata": {
        "id": "d9f48f1c",
        "colab": {
          "base_uri": "https://localhost:8080/"
        },
        "outputId": "72738867-f948-40a5-b8d2-e5c31edf9858"
      },
      "outputs": [
        {
          "output_type": "stream",
          "name": "stdout",
          "text": [
            "Random Vector:\n",
            "[0.24463066 0.4345729  0.4928573  0.50993011 0.56755208 0.\n",
            " 0.16508849 0.32654604 0.08816308 0.53973978]\n"
          ]
        }
      ],
      "source": [
        "import numpy as np\n",
        "\n",
        "random_vector = np.random.rand(10)\n",
        "max_value = np.max(random_vector)\n",
        "max_index = np.argmax(random_vector)\n",
        "\n",
        "random_vector[max_index] = 0\n",
        "\n",
        "print(\"Random Vector:\")\n",
        "print(random_vector)"
      ]
    },
    {
      "cell_type": "markdown",
      "id": "084e8ad4",
      "metadata": {
        "id": "084e8ad4"
      },
      "source": [
        "#### 46. Create a structured array with `x` and `y` coordinates covering the [0,1]x[0,1] area (★★☆)"
      ]
    },
    {
      "cell_type": "code",
      "execution_count": null,
      "id": "58b47c13",
      "metadata": {
        "id": "58b47c13"
      },
      "outputs": [],
      "source": [
        "import numpy as np\n",
        "\n",
        "num_points = 5\n",
        "\n",
        "x_coords = np.linspace(0, 1, num_points)\n",
        "y_coords = np.linspace(0, 1, num_points)\n",
        "\n",
        "X, Y = np.meshgrid(x_coords, y_coords)\n",
        "\n",
        "coordinates = np.column_stack((X.ravel(), Y.ravel()))\n",
        "\n",
        "print(coordinates)"
      ]
    },
    {
      "cell_type": "markdown",
      "id": "d7b9bc42",
      "metadata": {
        "id": "d7b9bc42"
      },
      "source": [
        "#### 47. Given two arrays, X and Y, construct the Cauchy matrix C (Cij =1/(xi - yj)) (★★☆)"
      ]
    },
    {
      "cell_type": "code",
      "execution_count": 34,
      "id": "a24824fb",
      "metadata": {
        "id": "a24824fb",
        "colab": {
          "base_uri": "https://localhost:8080/"
        },
        "outputId": "589a9042-c974-451c-be03-ae966fbbbca4"
      },
      "outputs": [
        {
          "output_type": "stream",
          "name": "stdout",
          "text": [
            "[[-0.2        -0.16666667 -0.14285714 -0.125      -0.11111111]\n",
            " [-0.25       -0.2        -0.16666667 -0.14285714 -0.125     ]\n",
            " [-0.33333333 -0.25       -0.2        -0.16666667 -0.14285714]\n",
            " [-0.5        -0.33333333 -0.25       -0.2        -0.16666667]\n",
            " [-1.         -0.5        -0.33333333 -0.25       -0.2       ]]\n"
          ]
        }
      ],
      "source": [
        "import numpy as np\n",
        "\n",
        "X = np.array([1, 2, 3, 4, 5])\n",
        "Y = np.array([6, 7, 8, 9, 10])\n",
        "\n",
        "diff_matrix = X[:, np.newaxis] - Y\n",
        "\n",
        "C = 1 / diff_matrix\n",
        "\n",
        "print(C)"
      ]
    },
    {
      "cell_type": "markdown",
      "id": "65ebc11b",
      "metadata": {
        "id": "65ebc11b"
      },
      "source": [
        "#### 48. Print the minimum and maximum representable value for each numpy scalar type (★★☆)"
      ]
    },
    {
      "cell_type": "code",
      "execution_count": 35,
      "id": "e45d38fb",
      "metadata": {
        "id": "e45d38fb",
        "colab": {
          "base_uri": "https://localhost:8080/"
        },
        "outputId": "f6019df8-52b6-41cf-b545-df4e749f0b20"
      },
      "outputs": [
        {
          "output_type": "stream",
          "name": "stdout",
          "text": [
            "Integer Types:\n",
            "int8: Min = -128, Max = 127\n",
            "int16: Min = -32768, Max = 32767\n",
            "int32: Min = -2147483648, Max = 2147483647\n",
            "int64: Min = -9223372036854775808, Max = 9223372036854775807\n",
            "uint8: Min = 0, Max = 255\n",
            "uint16: Min = 0, Max = 65535\n",
            "uint32: Min = 0, Max = 4294967295\n",
            "uint64: Min = 0, Max = 18446744073709551615\n",
            "\n",
            "Floating-Point Types:\n",
            "float16: Min = -65504.0, Max = 65504.0\n",
            "float32: Min = -3.4028234663852886e+38, Max = 3.4028234663852886e+38\n",
            "float64: Min = -1.7976931348623157e+308, Max = 1.7976931348623157e+308\n",
            "float128: Min = -inf, Max = inf\n"
          ]
        }
      ],
      "source": [
        "import numpy as np\n",
        "\n",
        "# Integer types\n",
        "integer_types = [np.int8, np.int16, np.int32, np.int64,\n",
        "                 np.uint8, np.uint16, np.uint32, np.uint64]\n",
        "\n",
        "print(\"Integer Types:\")\n",
        "for int_type in integer_types:\n",
        "    info = np.iinfo(int_type)\n",
        "    print(f\"{int_type.__name__}: Min = {info.min}, Max = {info.max}\")\n",
        "\n",
        "# Floating-point types\n",
        "float_types = [np.float16, np.float32, np.float64, np.float128]\n",
        "\n",
        "print(\"\\nFloating-Point Types:\")\n",
        "for float_type in float_types:\n",
        "    info = np.finfo(float_type)\n",
        "    print(f\"{float_type.__name__}: Min = {info.min}, Max = {info.max}\")\n"
      ]
    },
    {
      "cell_type": "markdown",
      "id": "9b317a98",
      "metadata": {
        "id": "9b317a98"
      },
      "source": [
        "#### 49. How to print all the values of an array? (★★☆)"
      ]
    },
    {
      "cell_type": "code",
      "execution_count": 36,
      "id": "309cdeb9",
      "metadata": {
        "id": "309cdeb9",
        "colab": {
          "base_uri": "https://localhost:8080/"
        },
        "outputId": "1875140d-6bde-4692-9b2c-f51e10a53989"
      },
      "outputs": [
        {
          "output_type": "stream",
          "name": "stdout",
          "text": [
            "[1 2 3 4 5]\n"
          ]
        }
      ],
      "source": [
        "import numpy as np\n",
        "\n",
        "my_array = np.array([1, 2, 3, 4, 5])\n",
        "\n",
        "print(my_array)"
      ]
    },
    {
      "cell_type": "markdown",
      "id": "b580f9d0",
      "metadata": {
        "id": "b580f9d0"
      },
      "source": [
        "#### 50. How to find the closest value (to a given scalar) in a vector? (★★☆)"
      ]
    },
    {
      "cell_type": "code",
      "execution_count": 38,
      "id": "ebfb6714",
      "metadata": {
        "id": "ebfb6714",
        "colab": {
          "base_uri": "https://localhost:8080/"
        },
        "outputId": "a052294a-a007-4a95-d698-0ffd6385c938"
      },
      "outputs": [
        {
          "output_type": "stream",
          "name": "stdout",
          "text": [
            "Closest Value: 12\n"
          ]
        }
      ],
      "source": [
        "import numpy as np\n",
        "\n",
        "def find_closest_value(vector, scalar):\n",
        "    absolute_diff = np.abs(vector - scalar)\n",
        "\n",
        "    closest_index = np.argmin(absolute_diff)\n",
        "\n",
        "    closest_value = vector[closest_index]\n",
        "    return closest_value\n",
        "\n",
        "my_vector = np.array([1, 4, 7, 10, 12])\n",
        "given_scalar = 15\n",
        "\n",
        "closest_value = find_closest_value(my_vector, given_scalar)\n",
        "print(\"Closest Value:\", closest_value)"
      ]
    },
    {
      "cell_type": "markdown",
      "id": "602e6252",
      "metadata": {
        "id": "602e6252"
      },
      "source": [
        "#### 51. Create a structured array representing a position (x,y) and a color (r,g,b) (★★☆)"
      ]
    },
    {
      "cell_type": "code",
      "execution_count": 39,
      "id": "cf002b3a",
      "metadata": {
        "id": "cf002b3a",
        "colab": {
          "base_uri": "https://localhost:8080/"
        },
        "outputId": "db77fec5-4c66-4311-8797-3523c261d814"
      },
      "outputs": [
        {
          "output_type": "stream",
          "name": "stdout",
          "text": [
            "[([1. , 2. ], [255,   0,   0]) ([3.5, 4.2], [  0, 255,   0])\n",
            " ([0.8, 6.1], [  0,   0, 255])]\n"
          ]
        }
      ],
      "source": [
        "import numpy as np\n",
        "\n",
        "position_color_dtype = np.dtype([('position', ('float', 2)), ('color', ('int', 3))])\n",
        "\n",
        "data = np.array([((1.0, 2.0), (255, 0, 0)),\n",
        "                 ((3.5, 4.2), (0, 255, 0)),\n",
        "                 ((0.8, 6.1), (0, 0, 255))],\n",
        "                dtype=position_color_dtype)\n",
        "print(data)"
      ]
    },
    {
      "cell_type": "markdown",
      "id": "78bcd92f",
      "metadata": {
        "id": "78bcd92f"
      },
      "source": [
        "#### 52. Consider a random vector with shape (100,2) representing coordinates, find point by point distances (★★☆)"
      ]
    },
    {
      "cell_type": "code",
      "execution_count": 40,
      "id": "fea7f9a6",
      "metadata": {
        "id": "fea7f9a6",
        "colab": {
          "base_uri": "https://localhost:8080/"
        },
        "outputId": "307332a3-d0a4-4752-8c3d-473f0be9451b"
      },
      "outputs": [
        {
          "output_type": "stream",
          "name": "stdout",
          "text": [
            "[[0.         0.55395867 0.43180839 ... 0.38923035 0.21551815 0.49447761]\n",
            " [0.55395867 0.         0.67850397 ... 0.86302719 0.36705481 0.67652686]\n",
            " [0.43180839 0.67850397 0.         ... 0.32041413 0.54395732 0.07865542]\n",
            " ...\n",
            " [0.38923035 0.86302719 0.32041413 ... 0.         0.59197705 0.39526208]\n",
            " [0.21551815 0.36705481 0.54395732 ... 0.59197705 0.         0.58488887]\n",
            " [0.49447761 0.67652686 0.07865542 ... 0.39526208 0.58488887 0.        ]]\n"
          ]
        }
      ],
      "source": [
        "import numpy as np\n",
        "from scipy.spatial.distance import cdist\n",
        "\n",
        "random_vector = np.random.rand(100, 2)\n",
        "\n",
        "distances = cdist(random_vector, random_vector)\n",
        "\n",
        "print(distances)"
      ]
    },
    {
      "cell_type": "markdown",
      "id": "343c5a85",
      "metadata": {
        "id": "343c5a85"
      },
      "source": [
        "#### 53. How to convert a float (32 bits) array into an integer (32 bits) in place?"
      ]
    },
    {
      "cell_type": "code",
      "execution_count": 42,
      "id": "fc1b687b",
      "metadata": {
        "id": "fc1b687b",
        "colab": {
          "base_uri": "https://localhost:8080/"
        },
        "outputId": "14fb5b54-fade-4253-8791-3871376b2918"
      },
      "outputs": [
        {
          "output_type": "stream",
          "name": "stdout",
          "text": [
            "Float Array: [1.2 3.4 5.6]\n",
            "Integer Array: [1067030938 1079613850 1085485875]\n"
          ]
        }
      ],
      "source": [
        "import numpy as np\n",
        "\n",
        "float_array = np.array([1.2, 3.4, 5.6], dtype=np.float32)\n",
        "\n",
        "int_array = float_array.view(dtype=np.int32)\n",
        "\n",
        "print(\"Float Array:\", float_array)\n",
        "print(\"Integer Array:\", int_array)"
      ]
    },
    {
      "cell_type": "markdown",
      "id": "a69e1ace",
      "metadata": {
        "id": "a69e1ace"
      },
      "source": [
        "#### 54. How to read the following file? (★★☆)\n",
        "```\n",
        "1, 2, 3, 4, 5\n",
        "6,  ,  , 7, 8\n",
        " ,  , 9,10,11\n",
        "```"
      ]
    },
    {
      "cell_type": "code",
      "execution_count": null,
      "id": "1c7957d4",
      "metadata": {
        "id": "1c7957d4"
      },
      "outputs": [],
      "source": []
    },
    {
      "cell_type": "markdown",
      "id": "c23bd80d",
      "metadata": {
        "id": "c23bd80d"
      },
      "source": [
        "#### 55. What is the equivalent of enumerate for numpy arrays? (★★☆)"
      ]
    },
    {
      "cell_type": "code",
      "execution_count": 43,
      "id": "d95d9578",
      "metadata": {
        "id": "d95d9578",
        "colab": {
          "base_uri": "https://localhost:8080/"
        },
        "outputId": "f2ca8b8a-a4b0-4f48-b4d2-bc0c4ff611dd"
      },
      "outputs": [
        {
          "output_type": "stream",
          "name": "stdout",
          "text": [
            "Index: (0, 0) Value: 1\n",
            "Index: (0, 1) Value: 2\n",
            "Index: (0, 2) Value: 3\n",
            "Index: (1, 0) Value: 4\n",
            "Index: (1, 1) Value: 5\n",
            "Index: (1, 2) Value: 6\n",
            "Index: (2, 0) Value: 7\n",
            "Index: (2, 1) Value: 8\n",
            "Index: (2, 2) Value: 9\n"
          ]
        }
      ],
      "source": [
        "import numpy as np\n",
        "#it is np.ndemumerate\n",
        "\n",
        "my_array = np.array([[1, 2, 3],\n",
        "                     [4, 5, 6],\n",
        "                     [7, 8, 9]])\n",
        "\n",
        "for index, value in np.ndenumerate(my_array):\n",
        "    print(\"Index:\", index, \"Value:\", value)"
      ]
    },
    {
      "cell_type": "markdown",
      "id": "2153a5ec",
      "metadata": {
        "id": "2153a5ec"
      },
      "source": [
        "#### 56. Generate a generic 2D Gaussian-like array (★★☆)"
      ]
    },
    {
      "cell_type": "code",
      "execution_count": 44,
      "id": "61122d1e",
      "metadata": {
        "id": "61122d1e",
        "colab": {
          "base_uri": "https://localhost:8080/",
          "height": 472
        },
        "outputId": "332712e8-9a5f-451e-cc20-64ecc663ed16"
      },
      "outputs": [
        {
          "output_type": "display_data",
          "data": {
            "text/plain": [
              "<Figure size 640x480 with 2 Axes>"
            ],
            "image/png": "[encoded data removed]"
          },
          "metadata": {}
        }
      ],
      "source": [
        "import numpy as np\n",
        "import matplotlib.pyplot as plt\n",
        "from scipy.ndimage import gaussian_filter\n",
        "\n",
        "def gaussian_like(size, x0, y0, sigma, amplitude=1):\n",
        "    x, y = np.meshgrid(np.arange(size), np.arange(size))\n",
        "    exponent = ((x - x0) ** 2 + (y - y0) ** 2) / (2 * sigma ** 2)\n",
        "    return amplitude * np.exp(-exponent)\n",
        "\n",
        "size = 100\n",
        "x0, y0 = size // 2, size // 2\n",
        "sigma = 20\n",
        "amplitude = 1\n",
        "\n",
        "gaussian_array = gaussian_like(size, x0, y0, sigma, amplitude)\n",
        "\n",
        "plt.imshow(gaussian_array, cmap='viridis', origin='lower')\n",
        "plt.colorbar()\n",
        "plt.title('2D Gaussian-like Array')\n",
        "plt.xlabel('X')\n",
        "plt.ylabel('Y')\n",
        "plt.show()"
      ]
    },
    {
      "cell_type": "markdown",
      "id": "2e76d589",
      "metadata": {
        "id": "2e76d589"
      },
      "source": [
        "#### 57. How to randomly place p elements in a 2D array? (★★☆)"
      ]
    },
    {
      "cell_type": "code",
      "execution_count": 45,
      "id": "0c2e4fcc",
      "metadata": {
        "id": "0c2e4fcc",
        "colab": {
          "base_uri": "https://localhost:8080/"
        },
        "outputId": "62ebfa94-a080-47a4-ef18-45de6b7243a7"
      },
      "outputs": [
        {
          "output_type": "stream",
          "name": "stdout",
          "text": [
            "[[ 0  0  0  0  0]\n",
            " [ 0  0 42  0  0]\n",
            " [ 0  0 42 42 42]\n",
            " [ 0  0  0  0  0]\n",
            " [ 0  0 42  0  0]]\n"
          ]
        }
      ],
      "source": [
        "import numpy as np\n",
        "\n",
        "def randomly_place_elements(array, p, element_value):\n",
        "    rows, cols = array.shape\n",
        "    total_elements = rows * cols\n",
        "    random_indices = np.random.choice(total_elements, p, replace=False)\n",
        "    row_indices, col_indices = np.unravel_index(random_indices, (rows, cols))\n",
        "    array[row_indices, col_indices] = element_value\n",
        "    return array\n",
        "\n",
        "rows = 5\n",
        "cols = 5\n",
        "p = 5\n",
        "element_value = 42\n",
        "\n",
        "my_array = np.zeros((rows, cols), dtype=int)\n",
        "array_with_elements = randomly_place_elements(my_array, p, element_value)\n",
        "print(array_with_elements)"
      ]
    },
    {
      "cell_type": "markdown",
      "id": "8b3933eb",
      "metadata": {
        "id": "8b3933eb"
      },
      "source": [
        "#### 58. Subtract the mean of each row of a matrix (★★☆)"
      ]
    },
    {
      "cell_type": "code",
      "execution_count": 46,
      "id": "a306c9ef",
      "metadata": {
        "id": "a306c9ef",
        "colab": {
          "base_uri": "https://localhost:8080/"
        },
        "outputId": "c95fb401-82dc-4f52-a35f-b58721d50f19"
      },
      "outputs": [
        {
          "output_type": "stream",
          "name": "stdout",
          "text": [
            "Original Matrix:\n",
            "[[ 1  2  3  4]\n",
            " [ 5  6  7  8]\n",
            " [ 9 10 11 12]]\n",
            "\n",
            "Row-Wise Mean:\n",
            "[[ 2.5]\n",
            " [ 6.5]\n",
            " [10.5]]\n",
            "\n",
            "Matrix After Subtracting Row-Wise Mean:\n",
            "[[-1.5 -0.5  0.5  1.5]\n",
            " [-1.5 -0.5  0.5  1.5]\n",
            " [-1.5 -0.5  0.5  1.5]]\n"
          ]
        }
      ],
      "source": [
        "import numpy as np\n",
        "\n",
        "matrix = np.array([[1, 2, 3, 4],\n",
        "                   [5, 6, 7, 8],\n",
        "                   [9, 10, 11, 12]])\n",
        "\n",
        "row_means = np.mean(matrix, axis=1, keepdims=True)\n",
        "\n",
        "matrix_centered = matrix - row_means\n",
        "\n",
        "print(\"Original Matrix:\")\n",
        "print(matrix)\n",
        "\n",
        "print(\"\\nRow-Wise Mean:\")\n",
        "print(row_means)\n",
        "\n",
        "print(\"\\nMatrix After Subtracting Row-Wise Mean:\")\n",
        "print(matrix_centered)"
      ]
    },
    {
      "cell_type": "markdown",
      "id": "ea8807c0",
      "metadata": {
        "id": "ea8807c0"
      },
      "source": [
        "#### 59. How to sort an array by the nth column? (★★☆)"
      ]
    },
    {
      "cell_type": "code",
      "execution_count": 47,
      "id": "cc89a699",
      "metadata": {
        "id": "cc89a699",
        "colab": {
          "base_uri": "https://localhost:8080/"
        },
        "outputId": "06a0c9da-cf5f-4448-b4d0-f3ba0a7108e3"
      },
      "outputs": [
        {
          "output_type": "stream",
          "name": "stdout",
          "text": [
            "Original Array:\n",
            "[[3 9 1]\n",
            " [1 2 5]\n",
            " [8 7 6]\n",
            " [4 5 3]]\n",
            "\n",
            "Sorted Array by the nth column:\n",
            "[[1 2 5]\n",
            " [4 5 3]\n",
            " [8 7 6]\n",
            " [3 9 1]]\n"
          ]
        }
      ],
      "source": [
        "import numpy as np\n",
        "\n",
        "array = np.array([[3, 9, 1],\n",
        "                  [1, 2, 5],\n",
        "                  [8, 7, 6],\n",
        "                  [4, 5, 3]])\n",
        "\n",
        "n = 1\n",
        "sorted_array = array[array[:, n].argsort()]\n",
        "\n",
        "print(\"Original Array:\")\n",
        "print(array)\n",
        "\n",
        "print(\"\\nSorted Array by the nth column:\")\n",
        "print(sorted_array)"
      ]
    },
    {
      "cell_type": "markdown",
      "id": "00fa00a1",
      "metadata": {
        "id": "00fa00a1"
      },
      "source": [
        "#### 60. How to tell if a given 2D array has null columns? (★★☆)"
      ]
    },
    {
      "cell_type": "code",
      "execution_count": 49,
      "id": "3436e165",
      "metadata": {
        "id": "3436e165",
        "colab": {
          "base_uri": "https://localhost:8080/"
        },
        "outputId": "6c742dc7-706c-48c2-e793-66ae93a37d5f"
      },
      "outputs": [
        {
          "output_type": "stream",
          "name": "stdout",
          "text": [
            "Array 1 has null columns: True\n",
            "Array 2 has null columns: False\n"
          ]
        }
      ],
      "source": [
        "import numpy as np\n",
        "\n",
        "def has_null_columns(array):\n",
        "    null_columns_mask = np.all(array == 0, axis=0)\n",
        "    return np.any(null_columns_mask)\n",
        "\n",
        "array1 = np.array([[0, 1, 2],\n",
        "                   [0, 0, 0],\n",
        "                   [0, 3, 0]])\n",
        "\n",
        "array2 = np.array([[1, 2, 3],\n",
        "                   [4, 5, 6],\n",
        "                   [7, 8, 9]])\n",
        "\n",
        "has_null_cols1 = has_null_columns(array1)\n",
        "has_null_cols2 = has_null_columns(array2)\n",
        "\n",
        "print(\"Array 1 has null columns:\", has_null_cols1)\n",
        "print(\"Array 2 has null columns:\", has_null_cols2)"
      ]
    },
    {
      "cell_type": "markdown",
      "id": "5a65c7a2",
      "metadata": {
        "id": "5a65c7a2"
      },
      "source": [
        "#### 61. Find the nearest value from a given value in an array (★★☆)"
      ]
    },
    {
      "cell_type": "code",
      "execution_count": 51,
      "id": "73f149d6",
      "metadata": {
        "id": "73f149d6",
        "colab": {
          "base_uri": "https://localhost:8080/"
        },
        "outputId": "bd993a04-3778-4a5d-ff73-e48a6b7d951a"
      },
      "outputs": [
        {
          "output_type": "stream",
          "name": "stdout",
          "text": [
            "Array: [ 1  5  9 12 15]\n",
            "Given Value: 13\n",
            "Nearest Value: 12\n"
          ]
        }
      ],
      "source": [
        "import numpy as np\n",
        "\n",
        "def find_nearest_value(array, value):\n",
        "    absolute_diff = np.abs(array - value)\n",
        "    nearest_index = np.argmin(absolute_diff)\n",
        "    nearest_value = array[nearest_index]\n",
        "    return nearest_value\n",
        "\n",
        "my_array = np.array([1, 5, 9, 12, 15])\n",
        "\n",
        "given_value = 13\n",
        "\n",
        "nearest_value = find_nearest_value(my_array, given_value)\n",
        "\n",
        "print(\"Array:\", my_array)\n",
        "print(\"Given Value:\", given_value)\n",
        "print(\"Nearest Value:\", nearest_value)"
      ]
    },
    {
      "cell_type": "markdown",
      "id": "dd83e8af",
      "metadata": {
        "id": "dd83e8af"
      },
      "source": [
        "#### 62. Considering two arrays with shape (1,3) and (3,1), how to compute their sum using an iterator? (★★☆)"
      ]
    },
    {
      "cell_type": "code",
      "execution_count": 52,
      "id": "29a709a1",
      "metadata": {
        "id": "29a709a1",
        "colab": {
          "base_uri": "https://localhost:8080/"
        },
        "outputId": "5fbabdce-16d7-440b-90ae-7cababe8ded2"
      },
      "outputs": [
        {
          "output_type": "stream",
          "name": "stdout",
          "text": [
            "Array 1:\n",
            "[[1 2 3]]\n",
            "\n",
            "Array 2:\n",
            "[[4]\n",
            " [5]\n",
            " [6]]\n",
            "\n",
            "Sum of the two arrays: 63\n"
          ]
        }
      ],
      "source": [
        "import numpy as np\n",
        "\n",
        "array1 = np.array([[1, 2, 3]])\n",
        "array2 = np.array([[4],\n",
        "                   [5],\n",
        "                   [6]])\n",
        "\n",
        "result_sum = 0\n",
        "\n",
        "with np.nditer([array1, array2]) as it:\n",
        "    for x, y in it:\n",
        "        result_sum += x + y\n",
        "\n",
        "print(\"Array 1:\")\n",
        "print(array1)\n",
        "\n",
        "print(\"\\nArray 2:\")\n",
        "print(array2)\n",
        "\n",
        "print(\"\\nSum of the two arrays:\", result_sum)"
      ]
    },
    {
      "cell_type": "markdown",
      "id": "6c042efa",
      "metadata": {
        "id": "6c042efa"
      },
      "source": [
        "#### 63. Create an array class that has a name attribute (★★☆)"
      ]
    },
    {
      "cell_type": "code",
      "execution_count": 53,
      "id": "45b3d2e0",
      "metadata": {
        "id": "45b3d2e0",
        "colab": {
          "base_uri": "https://localhost:8080/"
        },
        "outputId": "ba2d87f4-1000-40d4-de57-bf3a4f766263"
      },
      "outputs": [
        {
          "output_type": "stream",
          "name": "stdout",
          "text": [
            "[1 2 3 4 5]\n",
            "Array Name: Example Array\n"
          ]
        }
      ],
      "source": [
        "import numpy as np\n",
        "\n",
        "class NamedArray(np.ndarray):\n",
        "    def __new__(cls, input_array, name=None):\n",
        "        obj = np.asarray(input_array).view(cls)\n",
        "        obj.name = name\n",
        "        return obj\n",
        "\n",
        "    def __array_finalize__(self, obj):\n",
        "        if obj is None:\n",
        "            return\n",
        "        self.name = getattr(obj, 'name', None)\n",
        "\n",
        "data = np.array([1, 2, 3, 4, 5])\n",
        "array_with_name = NamedArray(data, name=\"Example Array\")\n",
        "\n",
        "print(array_with_name)\n",
        "print(\"Array Name:\", array_with_name.name)"
      ]
    },
    {
      "cell_type": "markdown",
      "id": "0a075c3d",
      "metadata": {
        "id": "0a075c3d"
      },
      "source": [
        "#### 64. Consider a given vector, how to add 1 to each element indexed by a second vector (be careful with repeated indices)? (★★★)"
      ]
    },
    {
      "cell_type": "code",
      "execution_count": null,
      "id": "36c50470",
      "metadata": {
        "id": "36c50470"
      },
      "outputs": [],
      "source": [
        "import numpy as np\n",
        "\n",
        "def add_1_to_elements(vector, indices):\n",
        "    unique_indices, counts = np.unique(indices, return_counts=True)\n",
        "    vector[unique_indices] += counts\n",
        "\n",
        "    return vector\n",
        "\n",
        "vector = np.array([0, 1, 2, 3, 4, 5])\n",
        "indices = np.array([1, 3, 3, 4])\n",
        "\n",
        "result_vector = add_1_to_elements(vector, indices)\n",
        "\n",
        "print(\"Original Vector:\", vector)\n",
        "print(\"Result Vector:\", result_vector)"
      ]
    },
    {
      "cell_type": "markdown",
      "id": "0fb2f0c5",
      "metadata": {
        "id": "0fb2f0c5"
      },
      "source": [
        "#### 65. How to accumulate elements of a vector (X) to an array (F) based on an index list (I)? (★★★)"
      ]
    },
    {
      "cell_type": "code",
      "execution_count": 56,
      "id": "58aa5f82",
      "metadata": {
        "id": "58aa5f82",
        "colab": {
          "base_uri": "https://localhost:8080/"
        },
        "outputId": "c64ce847-de47-4654-efcd-bfb349a10bb5"
      },
      "outputs": [
        {
          "output_type": "stream",
          "name": "stdout",
          "text": [
            "Vector X: [10 20 30 40]\n",
            "Index List I: [0 1 1 2]\n",
            "Array F: [10. 50. 40.]\n"
          ]
        }
      ],
      "source": [
        "import numpy as np\n",
        "\n",
        "def accumulate_elements(X, I, F):\n",
        "    np.add.at(F, I, X)\n",
        "\n",
        "X = np.array([10, 20, 30, 40])\n",
        "I = np.array([0, 1, 1, 2])\n",
        "F = np.zeros(3)\n",
        "\n",
        "accumulate_elements(X, I, F)\n",
        "\n",
        "print(\"Vector X:\", X)\n",
        "print(\"Index List I:\", I)\n",
        "print(\"Array F:\", F)"
      ]
    },
    {
      "cell_type": "markdown",
      "id": "d89dc506",
      "metadata": {
        "id": "d89dc506"
      },
      "source": [
        "#### 66. Considering a (w,h,3) image of (dtype=ubyte), compute the number of unique colors (★★☆)"
      ]
    },
    {
      "cell_type": "code",
      "execution_count": 2,
      "id": "8fb43a49",
      "metadata": {
        "id": "8fb43a49",
        "colab": {
          "base_uri": "https://localhost:8080/"
        },
        "outputId": "22c015e2-c21f-4079-813e-5bd9db39d4a4"
      },
      "outputs": [
        {
          "output_type": "stream",
          "name": "stdout",
          "text": [
            "Number of Unique Colors: 100\n"
          ]
        }
      ],
      "source": [
        "import numpy as np\n",
        "\n",
        "def count_unique_colors(image):\n",
        "    reshaped_image = image.reshape(-1, 3)\n",
        "    unique_colors = np.unique(reshaped_image, axis=0)\n",
        "    num_unique_colors = len(unique_colors)\n",
        "    return num_unique_colors\n",
        "\n",
        "image = np.random.randint(0, 256, size=(10, 10, 3), dtype=np.uint8)\n",
        "num_colors = count_unique_colors(image)\n",
        "\n",
        "print(\"Number of Unique Colors:\", num_colors)"
      ]
    },
    {
      "cell_type": "markdown",
      "id": "535a5d81",
      "metadata": {
        "id": "535a5d81"
      },
      "source": [
        "#### 67. Considering a four dimensions array, how to get sum over the last two axis at once? (★★★)"
      ]
    },
    {
      "cell_type": "code",
      "execution_count": 59,
      "id": "f954ab9d",
      "metadata": {
        "id": "f954ab9d",
        "colab": {
          "base_uri": "https://localhost:8080/"
        },
        "outputId": "631ac9af-70aa-4445-fb3b-605af2242d32"
      },
      "outputs": [
        {
          "output_type": "stream",
          "name": "stdout",
          "text": [
            "Original Four-Dimensional Array:\n",
            "[[[[1 4 5 6 6]\n",
            "   [8 3 4 2 4]\n",
            "   [5 9 5 5 8]\n",
            "   [5 9 9 0 8]]\n",
            "\n",
            "  [[0 3 1 1 9]\n",
            "   [1 6 0 7 7]\n",
            "   [2 6 2 3 8]\n",
            "   [6 8 4 4 3]]\n",
            "\n",
            "  [[3 0 6 6 6]\n",
            "   [9 8 9 5 8]\n",
            "   [8 8 3 4 0]\n",
            "   [3 9 7 9 9]]]\n",
            "\n",
            "\n",
            " [[[4 8 1 6 9]\n",
            "   [8 1 5 0 3]\n",
            "   [3 7 7 0 5]\n",
            "   [6 0 9 9 3]]\n",
            "\n",
            "  [[6 8 3 4 0]\n",
            "   [5 5 1 6 5]\n",
            "   [1 5 2 2 8]\n",
            "   [7 6 1 2 5]]\n",
            "\n",
            "  [[3 6 1 4 6]\n",
            "   [3 7 9 7 2]\n",
            "   [8 8 9 2 1]\n",
            "   [2 0 5 2 8]]]]\n",
            "\n",
            "Sum over Last Two Axes:\n",
            "[[106  81 120]\n",
            " [ 94  82  93]]\n"
          ]
        }
      ],
      "source": [
        "import numpy as np\n",
        "\n",
        "array_4d = np.random.randint(0, 10, size=(2, 3, 4, 5))\n",
        "\n",
        "sum_last_two_axes = np.sum(array_4d, axis=(-2, -1))\n",
        "\n",
        "print(\"Original Four-Dimensional Array:\")\n",
        "print(array_4d)\n",
        "\n",
        "print(\"\\nSum over Last Two Axes:\")\n",
        "print(sum_last_two_axes)"
      ]
    },
    {
      "cell_type": "markdown",
      "id": "eee66d3c",
      "metadata": {
        "id": "eee66d3c"
      },
      "source": [
        "#### 68. Considering a one-dimensional vector D, how to compute means of subsets of D using a vector S of same size describing subset  indices? (★★★)"
      ]
    },
    {
      "cell_type": "code",
      "execution_count": 60,
      "id": "8929773a",
      "metadata": {
        "id": "8929773a",
        "colab": {
          "base_uri": "https://localhost:8080/"
        },
        "outputId": "35c4c0d8-62de-410b-a322-fd7fe6ca01a2"
      },
      "outputs": [
        {
          "output_type": "stream",
          "name": "stdout",
          "text": [
            "Vector D: [ 1  2  3  4  5  6  7  8  9 10]\n"
          ]
        }
      ],
      "source": [
        "import numpy as np\n",
        "\n",
        "def compute_subset_means(D, S):\n",
        "    unique_indices = np.unique(S)\n",
        "    sum_by_subset = np.bincount(S, weights=D)\n",
        "    count_by_subset = np.bincount(S)\n",
        "    means = sum_by_subset / count_by_subset\n",
        "\n",
        "    return means\n",
        "\n",
        "D = np.array([1, 2, 3, 4, 5, 6, 7, 8, 9, 10])\n",
        "S = np.array([0, 1, 0, 1, 2, 2, 0, 1, 2, 0])\n",
        "\n",
        "subset_means = compute_subset_means(D, S)\n",
        "\n",
        "print(\"Vector D:\", D)"
      ]
    },
    {
      "cell_type": "markdown",
      "id": "f90d4c40",
      "metadata": {
        "id": "f90d4c40"
      },
      "source": [
        "#### 69. How to get the diagonal of a dot product? (★★★)"
      ]
    },
    {
      "cell_type": "code",
      "execution_count": 61,
      "id": "b47d392d",
      "metadata": {
        "id": "b47d392d",
        "colab": {
          "base_uri": "https://localhost:8080/"
        },
        "outputId": "95964be0-a977-4cf8-a62a-4d227387800a"
      },
      "outputs": [
        {
          "output_type": "stream",
          "name": "stdout",
          "text": [
            "Matrix A:\n",
            "[[1 2 3]\n",
            " [4 5 6]\n",
            " [7 8 9]]\n",
            "\n",
            "Matrix B:\n",
            "[[9 8 7]\n",
            " [6 5 4]\n",
            " [3 2 1]]\n",
            "\n",
            "Diagonal of the Dot Product:\n",
            "[30 69 90]\n"
          ]
        }
      ],
      "source": [
        "import numpy as np\n",
        "\n",
        "def dot_product_diagonal(A, B):\n",
        "    dot_product_result = np.einsum('ij, jk -> ik', A, B)\n",
        "    diagonal_result = np.diagonal(dot_product_result)\n",
        "\n",
        "    return diagonal_result\n",
        "\n",
        "A = np.array([[1, 2, 3],\n",
        "              [4, 5, 6],\n",
        "              [7, 8, 9]])\n",
        "\n",
        "B = np.array([[9, 8, 7],\n",
        "              [6, 5, 4],\n",
        "              [3, 2, 1]])\n",
        "\n",
        "result_diagonal = dot_product_diagonal(A, B)\n",
        "\n",
        "print(\"Matrix A:\")\n",
        "print(A)\n",
        "\n",
        "print(\"\\nMatrix B:\")\n",
        "print(B)\n",
        "\n",
        "print(\"\\nDiagonal of the Dot Product:\")\n",
        "print(result_diagonal)"
      ]
    },
    {
      "cell_type": "markdown",
      "id": "a8a97e7d",
      "metadata": {
        "id": "a8a97e7d"
      },
      "source": [
        "#### 70. Consider the vector [1, 2, 3, 4, 5], how to build a new vector with 3 consecutive zeros interleaved between each value? (★★★)"
      ]
    },
    {
      "cell_type": "code",
      "execution_count": 70,
      "id": "ee6c6c37",
      "metadata": {
        "id": "ee6c6c37",
        "colab": {
          "base_uri": "https://localhost:8080/"
        },
        "outputId": "c37cd95b-6f13-4737-fb1c-5dd09dc9130b"
      },
      "outputs": [
        {
          "output_type": "stream",
          "name": "stdout",
          "text": [
            "Original Vector: [1 2 3 4 5]\n",
            "New Vector with 3 Consecutive Zeros: [1 0 0 0 2 0 0 0 3 0 0 0 4 0 0 0 5 0 0 0]\n"
          ]
        }
      ],
      "source": [
        "import numpy as np\n",
        "\n",
        "original_vector = np.array([1, 2, 3, 4, 5])\n",
        "\n",
        "new_vector = np.repeat(original_vector, 4)\n",
        "new_vector[1::4] = 0\n",
        "new_vector[2::4] = 0\n",
        "new_vector[3::4] = 0\n",
        "\n",
        "print(\"Original Vector:\", original_vector)\n",
        "print(\"New Vector with 3 Consecutive Zeros:\", new_vector)"
      ]
    },
    {
      "cell_type": "markdown",
      "id": "d6a30d60",
      "metadata": {
        "id": "d6a30d60"
      },
      "source": [
        "#### 71. Consider an array of dimension (5,5,3), how to mulitply it by an array with dimensions (5,5)? (★★★)"
      ]
    },
    {
      "cell_type": "code",
      "execution_count": 71,
      "id": "e9703f2e",
      "metadata": {
        "id": "e9703f2e",
        "colab": {
          "base_uri": "https://localhost:8080/"
        },
        "outputId": "a8370620-4b5c-45bb-a16f-628829926fc3"
      },
      "outputs": [
        {
          "output_type": "stream",
          "name": "stdout",
          "text": [
            "Three-dimensional Array (5, 5, 3):\n",
            "[[[0.16289995 0.53650898 0.50623926]\n",
            "  [0.77557781 0.67354765 0.19040782]\n",
            "  [0.91073124 0.84565654 0.54700585]\n",
            "  [0.45021489 0.16121128 0.80408459]\n",
            "  [0.25848197 0.31095441 0.74410525]]\n",
            "\n",
            " [[0.28782875 0.67592166 0.84923926]\n",
            "  [0.12016811 0.79239497 0.99109879]\n",
            "  [0.01312164 0.62674571 0.67800249]\n",
            "  [0.09624513 0.1084213  0.54549471]\n",
            "  [0.95332546 0.65383753 0.58699259]]\n",
            "\n",
            " [[0.87778832 0.81126388 0.4907012 ]\n",
            "  [0.19027049 0.77537561 0.75052998]\n",
            "  [0.04361115 0.47512222 0.0778539 ]\n",
            "  [0.09614104 0.67122012 0.46646777]\n",
            "  [0.3154311  0.08824163 0.37450978]]\n",
            "\n",
            " [[0.85204643 0.82522618 0.9438216 ]\n",
            "  [0.60243814 0.60582987 0.58082387]\n",
            "  [0.63494153 0.44507187 0.07569049]\n",
            "  [0.43917961 0.78265107 0.58252139]\n",
            "  [0.02303772 0.37012481 0.41318361]]\n",
            "\n",
            " [[0.09625865 0.0849255  0.45711666]\n",
            "  [0.29345642 0.52053852 0.68052549]\n",
            "  [0.56368655 0.25788627 0.54392957]\n",
            "  [0.62409353 0.36414094 0.87348226]\n",
            "  [0.63294969 0.47886841 0.01740251]]]\n",
            "\n",
            "Two-dimensional Array (5, 5):\n",
            "[[0.57836838 0.3859475  0.82757295 0.55415634 0.94446825]\n",
            " [0.93745643 0.85483044 0.89653745 0.97800125 0.86467341]\n",
            " [0.50119518 0.16504197 0.41345547 0.86271161 0.26959802]\n",
            " [0.97016596 0.28874428 0.81457284 0.88637248 0.54205793]\n",
            " [0.55737504 0.05063907 0.34861426 0.08022765 0.32052145]]\n",
            "\n",
            "Result of Element-wise Multiplication:\n",
            "[[[0.09421618 0.31029983 0.29279278]\n",
            "  [0.29933231 0.25995403 0.07348742]\n",
            "  [0.75369654 0.69984248 0.45268725]\n",
            "  [0.24948944 0.08933625 0.44558858]\n",
            "  [0.24412802 0.29368657 0.70278378]]\n",
            "\n",
            " [[0.26982691 0.63364711 0.7961248 ]\n",
            "  [0.10272336 0.67736334 0.84722142]\n",
            "  [0.01176404 0.561901   0.60785462]\n",
            "  [0.09412785 0.10603617 0.5334945 ]\n",
            "  [0.82431517 0.56535593 0.50755688]]\n",
            "\n",
            " [[0.43994327 0.40660155 0.24593708]\n",
            "  [0.03140262 0.12796952 0.12386895]\n",
            "  [0.01803127 0.19644188 0.03218912]\n",
            "  [0.08294199 0.57906939 0.40242716]\n",
            "  [0.0850396  0.02378977 0.1009671 ]]\n",
            "\n",
            " [[0.82662644 0.80060635 0.91566358]\n",
            "  [0.17395057 0.17492991 0.16770957]\n",
            "  [0.51720612 0.36254345 0.06165542]\n",
            "  [0.38927672 0.69372037 0.51633093]\n",
            "  [0.01248778 0.20062909 0.22396945]]\n",
            "\n",
            " [[0.05365217 0.04733536 0.25478542]\n",
            "  [0.01486036 0.02635959 0.03446118]\n",
            "  [0.19650917 0.08990283 0.1896216 ]\n",
            "  [0.05006955 0.02921417 0.07007743]\n",
            "  [0.20287395 0.1534876  0.00557788]]]\n"
          ]
        }
      ],
      "source": [
        "import numpy as np\n",
        "\n",
        "array_3d = np.random.rand(5, 5, 3)\n",
        "array_2d = np.random.rand(5, 5)\n",
        "result_array = array_3d * array_2d[:, :, np.newaxis]\n",
        "\n",
        "print(\"Three-dimensional Array (5, 5, 3):\")\n",
        "print(array_3d)\n",
        "\n",
        "print(\"\\nTwo-dimensional Array (5, 5):\")\n",
        "print(array_2d)\n",
        "\n",
        "print(\"\\nResult of Element-wise Multiplication:\")\n",
        "print(result_array)"
      ]
    },
    {
      "cell_type": "markdown",
      "id": "bac359a9",
      "metadata": {
        "id": "bac359a9"
      },
      "source": [
        "#### 72. How to swap two rows of an array? (★★★)"
      ]
    },
    {
      "cell_type": "code",
      "execution_count": 72,
      "id": "f1b432b1",
      "metadata": {
        "id": "f1b432b1",
        "colab": {
          "base_uri": "https://localhost:8080/"
        },
        "outputId": "ec707937-34b1-4eb9-bdad-0a57df680c3a"
      },
      "outputs": [
        {
          "output_type": "stream",
          "name": "stdout",
          "text": [
            "Original Array:\n",
            "[[ 1  2  3  4  5]\n",
            " [16 17 18 19 20]\n",
            " [11 12 13 14 15]\n",
            " [ 6  7  8  9 10]\n",
            " [21 22 23 24 25]]\n"
          ]
        }
      ],
      "source": [
        "import numpy as np\n",
        "\n",
        "array = np.array([[1, 2, 3, 4, 5],\n",
        "                  [6, 7, 8, 9, 10],\n",
        "                  [11, 12, 13, 14, 15],\n",
        "                  [16, 17, 18, 19, 20],\n",
        "                  [21, 22, 23, 24, 25]])\n",
        "\n",
        "array[[1, 3]] = array[[3, 1]]\n",
        "\n",
        "print(\"Original Array:\")\n",
        "print(array)"
      ]
    },
    {
      "cell_type": "markdown",
      "id": "620c9f83",
      "metadata": {
        "id": "620c9f83"
      },
      "source": [
        "#### 73. Consider a set of 10 triplets describing 10 triangles (with shared vertices), find the set of unique line segments composing all the  triangles (★★★)"
      ]
    },
    {
      "cell_type": "code",
      "execution_count": 74,
      "id": "4e595ffc",
      "metadata": {
        "id": "4e595ffc",
        "colab": {
          "base_uri": "https://localhost:8080/"
        },
        "outputId": "22225207-e746-4f7d-aa97-606ba9919154"
      },
      "outputs": [
        {
          "output_type": "stream",
          "name": "stdout",
          "text": [
            "Set of Unique Line Segments:\n",
            "((1, 1), (2, 1))\n",
            "((1, 0), (2, 0))\n",
            "((0, 2), (1, 2))\n",
            "((2, 1), (3, 1))\n",
            "((1, 3), (2, 3))\n",
            "((2, 0), (3, 0))\n",
            "((2, 2), (3, 2))\n",
            "((0, 1), (1, 1))\n",
            "((0, 0), (1, 0))\n",
            "((1, 2), (2, 2))\n"
          ]
        }
      ],
      "source": [
        "import numpy as np\n",
        "\n",
        "triangles = np.array([\n",
        "    [(0, 0), (1, 0), (0, 1)],\n",
        "    [(1, 0), (2, 0), (1, 1)],\n",
        "    [(2, 0), (3, 0), (2, 1)],\n",
        "    [(0, 1), (1, 1), (0, 2)],\n",
        "    [(1, 1), (2, 1), (1, 2)],\n",
        "    [(2, 1), (3, 1), (2, 2)],\n",
        "    [(0, 2), (1, 2), (0, 3)],\n",
        "    [(1, 2), (2, 2), (1, 3)],\n",
        "    [(2, 2), (3, 2), (2, 3)],\n",
        "    [(1, 3), (2, 3), (1, 4)]\n",
        "])\n",
        "\n",
        "vertices = triangles.reshape(-1, 2)\n",
        "\n",
        "line_segments = {tuple(sorted(map(tuple, [vertices[i], vertices[i + 1]]))) for i in range(0, len(vertices), 3)}\n",
        "\n",
        "print(\"Set of Unique Line Segments:\")\n",
        "for segment in line_segments:\n",
        "    print(segment)"
      ]
    },
    {
      "cell_type": "markdown",
      "id": "a76c55a2",
      "metadata": {
        "id": "a76c55a2"
      },
      "source": [
        "#### 74. Given a sorted array C that corresponds to a bincount, how to produce an array A such that np.bincount(A) == C? (★★★)"
      ]
    },
    {
      "cell_type": "code",
      "execution_count": 75,
      "id": "2d2ae65a",
      "metadata": {
        "id": "2d2ae65a",
        "colab": {
          "base_uri": "https://localhost:8080/"
        },
        "outputId": "dc70ac63-be77-447b-f782-f4179eefb59a"
      },
      "outputs": [
        {
          "output_type": "stream",
          "name": "stdout",
          "text": [
            "Array A: [2 3 3 4 4 5 5 5 6 6 6 6 6 7 7 7 7 7 8 8 8 8 8]\n",
            "Bincount of A: [0 0 1 2 2 3 5 5 5]\n"
          ]
        }
      ],
      "source": [
        "import numpy as np\n",
        "\n",
        "C = np.array([0, 0, 1, 2, 2, 3, 5, 5, 5])\n",
        "\n",
        "bin_positions = np.cumsum(C)\n",
        "\n",
        "A = np.repeat(np.arange(len(C)), C)\n",
        "\n",
        "print(\"Array A:\", A)\n",
        "print(\"Bincount of A:\", np.bincount(A))"
      ]
    },
    {
      "cell_type": "markdown",
      "id": "d550c8e2",
      "metadata": {
        "id": "d550c8e2"
      },
      "source": [
        "#### 75. How to compute averages using a sliding window over an array? (★★★)"
      ]
    },
    {
      "cell_type": "code",
      "execution_count": null,
      "id": "841c457c",
      "metadata": {
        "id": "841c457c"
      },
      "outputs": [],
      "source": [
        "import numpy as np\n",
        "\n",
        "arr = np.array([1, 2, 3, 4, 5, 6, 7, 8, 9, 10])\n",
        "\n",
        "window_size = 3\n",
        "\n",
        "averages = np.convolve(arr, np.ones(window_size) / window_size, mode='valid')\n",
        "\n",
        "print(\"Original Array:\", arr)\n",
        "print(\"Moving Averages with Window Size\", window_size, \":\", averages)"
      ]
    },
    {
      "cell_type": "markdown",
      "id": "6b170b00",
      "metadata": {
        "id": "6b170b00"
      },
      "source": [
        "#### 76. Consider a one-dimensional array Z, build a two-dimensional array whose first row is (Z[0],Z[1],Z[2]) and each subsequent row is  shifted by 1 (last row should be (Z[-3],Z[-2],Z[-1]) (★★★)"
      ]
    },
    {
      "cell_type": "code",
      "execution_count": null,
      "id": "d9a0cf4e",
      "metadata": {
        "id": "d9a0cf4e"
      },
      "outputs": [],
      "source": [
        "import numpy as np\n",
        "\n",
        "Z = np.array([1, 2, 3, 4, 5, 6, 7])\n",
        "\n",
        "rows = len(Z) - 2\n",
        "cols = 3\n",
        "views = [Z[i:i+cols] for i in range(rows)]\n",
        "\n",
        "result_array = np.vstack(views)\n",
        "\n",
        "print(\"One-dimensional Array Z:\", Z)\n",
        "print(\"Two-dimensional Array:\")\n",
        "print(result_array)"
      ]
    },
    {
      "cell_type": "markdown",
      "id": "e94a5c1d",
      "metadata": {
        "id": "e94a5c1d"
      },
      "source": [
        "#### 77. How to negate a boolean, or to change the sign of a float inplace? (★★★)"
      ]
    },
    {
      "cell_type": "code",
      "execution_count": 76,
      "id": "c0f9504f",
      "metadata": {
        "id": "c0f9504f",
        "colab": {
          "base_uri": "https://localhost:8080/"
        },
        "outputId": "066d543f-5a13-40fe-b989-98c009a74e09"
      },
      "outputs": [
        {
          "output_type": "stream",
          "name": "stdout",
          "text": [
            "Original Boolean: True\n",
            "Negated Boolean: False\n"
          ]
        }
      ],
      "source": [
        "# Example boolean value\n",
        "boolean_value = True\n",
        "\n",
        "# Negate the boolean\n",
        "negated_boolean = not boolean_value\n",
        "\n",
        "print(\"Original Boolean:\", boolean_value)\n",
        "print(\"Negated Boolean:\", negated_boolean)"
      ]
    },
    {
      "cell_type": "markdown",
      "id": "4eb8b5c1",
      "metadata": {
        "id": "4eb8b5c1"
      },
      "source": [
        "#### 78. Consider 2 sets of points P0,P1 describing lines (2d) and a point p, how to compute distance from p to each line i (P0[i],P1[i])? (★★★)"
      ]
    },
    {
      "cell_type": "code",
      "execution_count": 77,
      "id": "487f47ec",
      "metadata": {
        "id": "487f47ec",
        "colab": {
          "base_uri": "https://localhost:8080/"
        },
        "outputId": "6debe0e9-00f5-4402-f388-9a93b35c10e4"
      },
      "outputs": [
        {
          "output_type": "stream",
          "name": "stdout",
          "text": [
            "Distances to Lines: [0.0, 0.6, 1.2649110640673518]\n"
          ]
        }
      ],
      "source": [
        "import numpy as np\n",
        "\n",
        "def distance_to_line(p, P0, P1):\n",
        "    P0 = np.array(P0)\n",
        "    P1 = np.array(P1)\n",
        "    p = np.array(p)\n",
        "\n",
        "    P0P1 = P1 - P0\n",
        "    P0p = p - P0\n",
        "    cross_product = np.cross(P0P1, P0p)\n",
        "    P0P1_magnitude = np.linalg.norm(P0P1)\n",
        "    distance = np.abs(cross_product) / P0P1_magnitude\n",
        "\n",
        "    return distance\n",
        "\n",
        "P0 = [(1, 1), (2, 3), (0, 0)]\n",
        "P1 = [(4, 4), (5, 7), (3, 1)]\n",
        "\n",
        "p = (2, 2)\n",
        "\n",
        "distances = [distance_to_line(p, P0[i], P1[i]) for i in range(len(P0))]\n",
        "print(\"Distances to Lines:\", distances)"
      ]
    },
    {
      "cell_type": "markdown",
      "id": "3df99948",
      "metadata": {
        "id": "3df99948"
      },
      "source": [
        "#### 79. Consider 2 sets of points P0,P1 describing lines (2d) and a set of points P, how to compute distance from each point j (P[j]) to each line i (P0[i],P1[i])? (★★★)"
      ]
    },
    {
      "cell_type": "code",
      "execution_count": 78,
      "id": "dc2df37b",
      "metadata": {
        "id": "dc2df37b",
        "colab": {
          "base_uri": "https://localhost:8080/"
        },
        "outputId": "39f66f1b-51cf-4b40-e01e-7baebde4d5aa"
      },
      "outputs": [
        {
          "output_type": "stream",
          "name": "stdout",
          "text": [
            "Distances to Lines: [0.0, 0.6, 1.2649110640673518]\n"
          ]
        }
      ],
      "source": [
        "import numpy as np\n",
        "\n",
        "def distance_to_line(p, P0, P1):\n",
        "    P0 = np.array(P0)\n",
        "    P1 = np.array(P1)\n",
        "    p = np.array(p)\n",
        "\n",
        "    P0P1 = P1 - P0\n",
        "\n",
        "    P0p = p - P0\n",
        "\n",
        "    cross_product = np.cross(P0P1, P0p)\n",
        "\n",
        "    P0P1_magnitude = np.linalg.norm(P0P1)\n",
        "\n",
        "    distance = np.abs(cross_product) / P0P1_magnitude\n",
        "\n",
        "    return distance\n",
        "\n",
        "P0 = [(1, 1), (2, 3), (0, 0)]\n",
        "P1 = [(4, 4), (5, 7), (3, 1)]\n",
        "\n",
        "p = (2, 2)\n",
        "\n",
        "distances = [distance_to_line(p, P0[i], P1[i]) for i in range(len(P0))]\n",
        "print(\"Distances to Lines:\", distances)"
      ]
    },
    {
      "cell_type": "markdown",
      "id": "11e972c2",
      "metadata": {
        "id": "11e972c2"
      },
      "source": [
        "#### 80. Consider an arbitrary array, write a function that extract a subpart with a fixed shape and centered on a given element (pad with a `fill` value when necessary) (★★★)"
      ]
    },
    {
      "cell_type": "code",
      "execution_count": null,
      "id": "0291247f",
      "metadata": {
        "id": "0291247f"
      },
      "outputs": [],
      "source": [
        "import numpy as np\n",
        "\n",
        "def extract_subpart(array, center, shape, fill_value=0):\n",
        "    center = np.array(center)\n",
        "    shape = np.array(shape)\n",
        "\n",
        "    start_index = np.maximum(center - shape // 2, 0)\n",
        "    end_index = np.minimum(center + shape // 2 + 1, np.array(array.shape))\n",
        "\n",
        "    subpart = np.full(shape, fill_value, dtype=array.dtype)\n",
        "\n",
        "    subpart_start = shape // 2 - (center - start_index)\n",
        "    subpart_end = subpart_start + (end_index - start_index)\n",
        "\n",
        "    subpart[subpart_start[0]:subpart_end[0], subpart_start[1]:subpart_end[1]] = array[start_index[0]:end_index[0], start_index[1]:end_index[1]]\n",
        "\n",
        "    return subpart\n",
        "\n",
        "array = np.random.randint(0, 10, (6, 6))\n",
        "\n",
        "center = (3, 3)\n",
        "shape = (3, 3)\n",
        "\n",
        "subpart = extract_subpart(array, center, shape, fill_value=-1)\n",
        "\n",
        "print(\"Original Array:\")\n",
        "print(array)\n",
        "print(\"\\nSubpart:\")\n",
        "print(subpart)"
      ]
    },
    {
      "cell_type": "markdown",
      "id": "93cfeab3",
      "metadata": {
        "id": "93cfeab3"
      },
      "source": [
        "#### 81. Consider an array Z = [1,2,3,4,5,6,7,8,9,10,11,12,13,14], how to generate an array R = [[1,2,3,4], [2,3,4,5], [3,4,5,6], ..., [11,12,13,14]]? (★★★)"
      ]
    },
    {
      "cell_type": "code",
      "execution_count": 79,
      "id": "360de791",
      "metadata": {
        "id": "360de791",
        "colab": {
          "base_uri": "https://localhost:8080/"
        },
        "outputId": "8199eb9f-9bb7-4964-cbbb-7a235804d3fa"
      },
      "outputs": [
        {
          "output_type": "stream",
          "name": "stdout",
          "text": [
            "Array R:\n",
            "[[ 1  2  3  4]\n",
            " [ 2  3  4  5]\n",
            " [ 3  4  5  6]\n",
            " [ 4  5  6  7]\n",
            " [ 5  6  7  8]\n",
            " [ 6  7  8  9]\n",
            " [ 7  8  9 10]\n",
            " [ 8  9 10 11]\n",
            " [ 9 10 11 12]\n",
            " [10 11 12 13]\n",
            " [11 12 13 14]]\n"
          ]
        }
      ],
      "source": [
        "import numpy as np\n",
        "\n",
        "Z = np.array([1, 2, 3, 4, 5, 6, 7, 8, 9, 10, 11, 12, 13, 14])\n",
        "window_size = 4\n",
        "num_subarrays = len(Z) - window_size + 1\n",
        "R = np.empty((num_subarrays, window_size), dtype=Z.dtype)\n",
        "\n",
        "for i in range(num_subarrays):\n",
        "    R[i] = Z[i:i + window_size]\n",
        "\n",
        "print(\"Array R:\")\n",
        "print(R)"
      ]
    },
    {
      "cell_type": "markdown",
      "id": "4c15ceff",
      "metadata": {
        "id": "4c15ceff"
      },
      "source": [
        "#### 82. Compute a matrix rank (★★★)"
      ]
    },
    {
      "cell_type": "code",
      "execution_count": 80,
      "id": "9a4272d2",
      "metadata": {
        "id": "9a4272d2",
        "colab": {
          "base_uri": "https://localhost:8080/"
        },
        "outputId": "ff76e20e-acac-40e8-e313-fdf2040c4996"
      },
      "outputs": [
        {
          "output_type": "stream",
          "name": "stdout",
          "text": [
            "Matrix:\n",
            "[[1 2 3]\n",
            " [4 5 6]\n",
            " [7 8 9]]\n",
            "Matrix Rank: 2\n"
          ]
        }
      ],
      "source": [
        "import numpy as np\n",
        "\n",
        "matrix = np.array([[1, 2, 3],\n",
        "                   [4, 5, 6],\n",
        "                   [7, 8, 9]])\n",
        "\n",
        "rank = np.linalg.matrix_rank(matrix)\n",
        "\n",
        "print(\"Matrix:\")\n",
        "print(matrix)\n",
        "print(\"Matrix Rank:\", rank)"
      ]
    },
    {
      "cell_type": "markdown",
      "id": "1171cb84",
      "metadata": {
        "id": "1171cb84"
      },
      "source": [
        "#### 83. How to find the most frequent value in an array?"
      ]
    },
    {
      "cell_type": "code",
      "execution_count": 81,
      "id": "33e951c8",
      "metadata": {
        "id": "33e951c8",
        "colab": {
          "base_uri": "https://localhost:8080/"
        },
        "outputId": "d276178c-10e0-428d-a425-9895d24f9a71"
      },
      "outputs": [
        {
          "output_type": "stream",
          "name": "stdout",
          "text": [
            "Array: [1 2 3 2 4 2 5 3 3]\n",
            "Most Frequent Value: 2\n"
          ]
        }
      ],
      "source": [
        "import numpy as np\n",
        "\n",
        "array = np.array([1, 2, 3, 2, 4, 2, 5, 3])\n",
        "bin_counts = np.bincount(array)\n",
        "most_frequent_value = np.argmax(bin_counts)\n",
        "\n",
        "print(\"Array:\", array)\n",
        "print(\"Most Frequent Value:\", most_frequent_value)"
      ]
    },
    {
      "cell_type": "markdown",
      "id": "04f472aa",
      "metadata": {
        "id": "04f472aa"
      },
      "source": [
        "#### 84. Extract all the contiguous 3x3 blocks from a random 10x10 matrix (★★★)"
      ]
    },
    {
      "cell_type": "code",
      "execution_count": 82,
      "id": "7aade14a",
      "metadata": {
        "id": "7aade14a",
        "colab": {
          "base_uri": "https://localhost:8080/"
        },
        "outputId": "d840b9ad-dba6-4bdc-aa43-2a9e9be08caa"
      },
      "outputs": [
        {
          "output_type": "stream",
          "name": "stdout",
          "text": [
            "Random 10x10 Matrix:\n",
            "[[45 48 65 68 68 10 84 22 37 88]\n",
            " [71 89 89 13 59 66 40 88 47 89]\n",
            " [82 38 26 78 73 10 21 81 70 80]\n",
            " [48 65 83 89 50 30 20 20 15 40]\n",
            " [33 66 10 58 33 32 75 24 36 76]\n",
            " [56 29 35  1  1 37 54  6 39 18]\n",
            " [80  5 43 59 32  2 66 42 58 36]\n",
            " [12 47 83 92  1 15 54 13 43 85]\n",
            " [76 69  7 69 48  4 77 53 79 16]\n",
            " [21 59 24 80 14 86 49 50 70 42]]\n",
            "\n",
            "Extracted 3x3 Blocks:\n",
            "[[45 48 65]\n",
            " [71 89 89]\n",
            " [82 38 26]]\n",
            "[[48 65 68]\n",
            " [89 89 13]\n",
            " [38 26 78]]\n",
            "[[65 68 68]\n",
            " [89 13 59]\n",
            " [26 78 73]]\n",
            "[[68 68 10]\n",
            " [13 59 66]\n",
            " [78 73 10]]\n",
            "[[68 10 84]\n",
            " [59 66 40]\n",
            " [73 10 21]]\n",
            "[[10 84 22]\n",
            " [66 40 88]\n",
            " [10 21 81]]\n",
            "[[84 22 37]\n",
            " [40 88 47]\n",
            " [21 81 70]]\n",
            "[[22 37 88]\n",
            " [88 47 89]\n",
            " [81 70 80]]\n",
            "[[71 89 89]\n",
            " [82 38 26]\n",
            " [48 65 83]]\n",
            "[[89 89 13]\n",
            " [38 26 78]\n",
            " [65 83 89]]\n",
            "[[89 13 59]\n",
            " [26 78 73]\n",
            " [83 89 50]]\n",
            "[[13 59 66]\n",
            " [78 73 10]\n",
            " [89 50 30]]\n",
            "[[59 66 40]\n",
            " [73 10 21]\n",
            " [50 30 20]]\n",
            "[[66 40 88]\n",
            " [10 21 81]\n",
            " [30 20 20]]\n",
            "[[40 88 47]\n",
            " [21 81 70]\n",
            " [20 20 15]]\n",
            "[[88 47 89]\n",
            " [81 70 80]\n",
            " [20 15 40]]\n",
            "[[82 38 26]\n",
            " [48 65 83]\n",
            " [33 66 10]]\n",
            "[[38 26 78]\n",
            " [65 83 89]\n",
            " [66 10 58]]\n",
            "[[26 78 73]\n",
            " [83 89 50]\n",
            " [10 58 33]]\n",
            "[[78 73 10]\n",
            " [89 50 30]\n",
            " [58 33 32]]\n",
            "[[73 10 21]\n",
            " [50 30 20]\n",
            " [33 32 75]]\n",
            "[[10 21 81]\n",
            " [30 20 20]\n",
            " [32 75 24]]\n",
            "[[21 81 70]\n",
            " [20 20 15]\n",
            " [75 24 36]]\n",
            "[[81 70 80]\n",
            " [20 15 40]\n",
            " [24 36 76]]\n",
            "[[48 65 83]\n",
            " [33 66 10]\n",
            " [56 29 35]]\n",
            "[[65 83 89]\n",
            " [66 10 58]\n",
            " [29 35  1]]\n",
            "[[83 89 50]\n",
            " [10 58 33]\n",
            " [35  1  1]]\n",
            "[[89 50 30]\n",
            " [58 33 32]\n",
            " [ 1  1 37]]\n",
            "[[50 30 20]\n",
            " [33 32 75]\n",
            " [ 1 37 54]]\n",
            "[[30 20 20]\n",
            " [32 75 24]\n",
            " [37 54  6]]\n",
            "[[20 20 15]\n",
            " [75 24 36]\n",
            " [54  6 39]]\n",
            "[[20 15 40]\n",
            " [24 36 76]\n",
            " [ 6 39 18]]\n",
            "[[33 66 10]\n",
            " [56 29 35]\n",
            " [80  5 43]]\n",
            "[[66 10 58]\n",
            " [29 35  1]\n",
            " [ 5 43 59]]\n",
            "[[10 58 33]\n",
            " [35  1  1]\n",
            " [43 59 32]]\n",
            "[[58 33 32]\n",
            " [ 1  1 37]\n",
            " [59 32  2]]\n",
            "[[33 32 75]\n",
            " [ 1 37 54]\n",
            " [32  2 66]]\n",
            "[[32 75 24]\n",
            " [37 54  6]\n",
            " [ 2 66 42]]\n",
            "[[75 24 36]\n",
            " [54  6 39]\n",
            " [66 42 58]]\n",
            "[[24 36 76]\n",
            " [ 6 39 18]\n",
            " [42 58 36]]\n",
            "[[56 29 35]\n",
            " [80  5 43]\n",
            " [12 47 83]]\n",
            "[[29 35  1]\n",
            " [ 5 43 59]\n",
            " [47 83 92]]\n",
            "[[35  1  1]\n",
            " [43 59 32]\n",
            " [83 92  1]]\n",
            "[[ 1  1 37]\n",
            " [59 32  2]\n",
            " [92  1 15]]\n",
            "[[ 1 37 54]\n",
            " [32  2 66]\n",
            " [ 1 15 54]]\n",
            "[[37 54  6]\n",
            " [ 2 66 42]\n",
            " [15 54 13]]\n",
            "[[54  6 39]\n",
            " [66 42 58]\n",
            " [54 13 43]]\n",
            "[[ 6 39 18]\n",
            " [42 58 36]\n",
            " [13 43 85]]\n",
            "[[80  5 43]\n",
            " [12 47 83]\n",
            " [76 69  7]]\n",
            "[[ 5 43 59]\n",
            " [47 83 92]\n",
            " [69  7 69]]\n",
            "[[43 59 32]\n",
            " [83 92  1]\n",
            " [ 7 69 48]]\n",
            "[[59 32  2]\n",
            " [92  1 15]\n",
            " [69 48  4]]\n",
            "[[32  2 66]\n",
            " [ 1 15 54]\n",
            " [48  4 77]]\n",
            "[[ 2 66 42]\n",
            " [15 54 13]\n",
            " [ 4 77 53]]\n",
            "[[66 42 58]\n",
            " [54 13 43]\n",
            " [77 53 79]]\n",
            "[[42 58 36]\n",
            " [13 43 85]\n",
            " [53 79 16]]\n",
            "[[12 47 83]\n",
            " [76 69  7]\n",
            " [21 59 24]]\n",
            "[[47 83 92]\n",
            " [69  7 69]\n",
            " [59 24 80]]\n",
            "[[83 92  1]\n",
            " [ 7 69 48]\n",
            " [24 80 14]]\n",
            "[[92  1 15]\n",
            " [69 48  4]\n",
            " [80 14 86]]\n",
            "[[ 1 15 54]\n",
            " [48  4 77]\n",
            " [14 86 49]]\n",
            "[[15 54 13]\n",
            " [ 4 77 53]\n",
            " [86 49 50]]\n",
            "[[54 13 43]\n",
            " [77 53 79]\n",
            " [49 50 70]]\n",
            "[[13 43 85]\n",
            " [53 79 16]\n",
            " [50 70 42]]\n"
          ]
        }
      ],
      "source": [
        "import numpy as np\n",
        "\n",
        "np.random.seed(0)\n",
        "matrix = np.random.randint(1, 100, (10, 10))\n",
        "\n",
        "blocks = []\n",
        "for i in range(matrix.shape[0] - 2):\n",
        "    for j in range(matrix.shape[1] - 2):\n",
        "        block = matrix[i:i+3, j:j+3]\n",
        "        blocks.append(block)\n",
        "\n",
        "blocks_array = np.array(blocks)\n",
        "\n",
        "print(\"Random 10x10 Matrix:\")\n",
        "print(matrix)\n",
        "print(\"\\nExtracted 3x3 Blocks:\")\n",
        "for block in blocks_array:\n",
        "    print(block)"
      ]
    },
    {
      "cell_type": "markdown",
      "id": "52836346",
      "metadata": {
        "id": "52836346"
      },
      "source": [
        "#### 85. Create a 2D array subclass such that Z[i,j] == Z[j,i] (★★★)"
      ]
    },
    {
      "cell_type": "code",
      "execution_count": 110,
      "id": "4df70318",
      "metadata": {
        "id": "4df70318",
        "colab": {
          "base_uri": "https://localhost:8080/"
        },
        "outputId": "0210988c-dfd5-4dbb-f1db-2ce4d36c932c"
      },
      "outputs": [
        {
          "output_type": "stream",
          "name": "stdout",
          "text": [
            "Original Array:\n",
            "[[1 2 3]\n",
            " [4 5 6]\n",
            " [7 8 9]]\n",
            "\n",
            "Modified Symmetric Array:\n",
            "[[ 1  2  3]\n",
            " [ 4  5 10]\n",
            " [ 7 10  9]]\n"
          ]
        }
      ],
      "source": [
        "import numpy as np\n",
        "\n",
        "class SymmetricArray(np.ndarray):\n",
        "    def __new__(cls, input_array):\n",
        "        obj = np.asarray(input_array).view(cls)\n",
        "        return obj\n",
        "\n",
        "    def __setitem__(self, index, value):\n",
        "        i, j = index\n",
        "        super(SymmetricArray, self).__setitem__((i, j), value)\n",
        "        super(SymmetricArray, self).__setitem__((j, i), value)\n",
        "\n",
        "array_data = [[1, 2, 3],\n",
        "              [4, 5, 6],\n",
        "              [7, 8, 9]]\n",
        "\n",
        "symmetric_array = SymmetricArray(array_data)\n",
        "\n",
        "print(\"Original Array:\")\n",
        "print(symmetric_array)\n",
        "\n",
        "symmetric_array[1, 2] = 10\n",
        "\n",
        "print(\"\\nModified Symmetric Array:\")\n",
        "print(symmetric_array)"
      ]
    },
    {
      "cell_type": "markdown",
      "id": "78c43ee5",
      "metadata": {
        "id": "78c43ee5"
      },
      "source": [
        "#### 86. Consider a set of p matrices with shape (n,n) and a set of p vectors with shape (n,1). How to compute the sum of of the p matrix products at once? (result has shape (n,1)) (★★★)"
      ]
    },
    {
      "cell_type": "code",
      "execution_count": 88,
      "id": "32fd2c3b",
      "metadata": {
        "id": "32fd2c3b",
        "colab": {
          "base_uri": "https://localhost:8080/"
        },
        "outputId": "1aa1e50d-3cd6-45a0-ef43-dfba3f545bb3"
      },
      "outputs": [
        {
          "output_type": "stream",
          "name": "stdout",
          "text": [
            "Matrices:\n",
            "Matrix 1:\n",
            "[[0.61880856 0.47486752 0.47013219 0.71607453]\n",
            " [0.287991   0.38346223 0.74916984 0.87845219]\n",
            " [0.10286336 0.09237389 0.35404666 0.55181626]\n",
            " [0.03362509 0.96896177 0.32099724 0.22126269]]\n",
            "Matrix 2:\n",
            "[[0.1412639  0.09725993 0.98404224 0.26034093]\n",
            " [0.53702252 0.44792617 0.09956909 0.35231166]\n",
            " [0.46924917 0.84114013 0.90464774 0.03755938]\n",
            " [0.50831545 0.16684751 0.77905102 0.8649333 ]]\n",
            "Matrix 3:\n",
            "[[0.41139672 0.13997259 0.03322239 0.98257496]\n",
            " [0.37329075 0.42007537 0.05058812 0.36549611]\n",
            " [0.01662797 0.23074234 0.7649117  0.94412352]\n",
            " [0.74999925 0.33940382 0.48954894 0.33898512]]\n",
            "\n",
            "Vectors:\n",
            "Vector 1:\n",
            "[[0.17949026]\n",
            " [0.1709866 ]\n",
            " [0.46345098]\n",
            " [0.87457296]]\n",
            "Vector 2:\n",
            "[[0.94411975]\n",
            " [0.60825287]\n",
            " [0.59665541]\n",
            " [0.78364425]]\n",
            "Vector 3:\n",
            "[[0.5000263 ]\n",
            " [0.05037006]\n",
            " [0.69909807]\n",
            " [0.9923964 ]]\n",
            "\n",
            "Result (Sum of Matrix Products):\n",
            "[[3.23117537]\n",
            " [2.95359138]\n",
            " [3.69642399]\n",
            " [3.3087783 ]]\n"
          ]
        }
      ],
      "source": [
        "import numpy as np\n",
        "\n",
        "p = 3\n",
        "n = 4\n",
        "\n",
        "matrices = [np.random.rand(n, n) for _ in range(p)]\n",
        "vectors = [np.random.rand(n, 1) for _ in range(p)]\n",
        "result = np.sum([np.matmul(matrices[i], vectors[i]) for i in range(p)], axis=0)\n",
        "\n",
        "print(\"Matrices:\")\n",
        "for i, matrix in enumerate(matrices):\n",
        "    print(f\"Matrix {i + 1}:\")\n",
        "    print(matrix)\n",
        "\n",
        "print(\"\\nVectors:\")\n",
        "for i, vector in enumerate(vectors):\n",
        "    print(f\"Vector {i + 1}:\")\n",
        "    print(vector)\n",
        "\n",
        "print(\"\\nResult (Sum of Matrix Products):\")\n",
        "print(result)"
      ]
    },
    {
      "cell_type": "markdown",
      "id": "158f9945",
      "metadata": {
        "id": "158f9945"
      },
      "source": [
        "#### 87. Consider a 16x16 array, how to get the block-sum (block size is 4x4)? (★★★)"
      ]
    },
    {
      "cell_type": "code",
      "execution_count": 89,
      "id": "5a9b808f",
      "metadata": {
        "id": "5a9b808f",
        "colab": {
          "base_uri": "https://localhost:8080/"
        },
        "outputId": "14fb0519-23db-4944-a8e0-b2f2e3f388f4"
      },
      "outputs": [
        {
          "output_type": "stream",
          "name": "stdout",
          "text": [
            "Original 16x16 Array:\n",
            "[[4 8 4 3 2 2 3 2 5 3 6 6 6 3 6 8]\n",
            " [8 7 2 7 8 3 4 2 6 3 1 2 1 7 1 5]\n",
            " [9 5 4 4 9 9 8 1 4 9 8 8 2 9 5 8]\n",
            " [1 5 1 7 5 3 5 7 4 4 8 9 6 1 9 6]\n",
            " [5 8 5 2 4 4 3 6 3 4 6 8 3 8 2 7]\n",
            " [6 1 1 4 2 7 7 8 9 9 8 1 9 7 9 9]\n",
            " [4 7 2 8 5 3 1 9 3 8 9 5 5 2 8 7]\n",
            " [5 2 6 8 2 4 6 8 4 7 7 8 2 7 1 4]\n",
            " [9 5 2 5 6 1 4 2 5 5 5 1 1 9 5 7]\n",
            " [4 4 3 2 3 2 4 5 2 2 1 8 9 5 4 6]\n",
            " [7 4 3 9 2 5 1 9 4 6 6 2 8 9 7 5]\n",
            " [8 4 6 4 7 5 8 4 1 6 4 8 6 6 9 1]\n",
            " [9 4 7 4 3 8 1 4 1 4 7 2 3 5 2 4]\n",
            " [3 5 8 5 5 2 3 8 3 4 8 7 7 3 4 7]\n",
            " [1 9 1 8 7 6 7 6 3 8 2 3 3 6 7 5]\n",
            " [3 3 2 1 1 3 9 4 1 9 9 2 1 6 9 3]]\n",
            "\n",
            "Block-Sum (Block size 4x4):\n",
            "[[ 71  67 102  81]\n",
            " [ 78  97  86  81]\n",
            " [ 72  64  87  87]\n",
            " [ 68  82  82  66]]\n"
          ]
        }
      ],
      "source": [
        "import numpy as np\n",
        "\n",
        "array_16x16 = np.random.randint(1, 10, (16, 16))\n",
        "block_size = 4\n",
        "array_4x4x4x4 = array_16x16.reshape(4, 4, 4, 4)\n",
        "block_sum = np.sum(array_4x4x4x4, axis=(-2, -1))\n",
        "\n",
        "print(\"Original 16x16 Array:\")\n",
        "print(array_16x16)\n",
        "print(\"\\nBlock-Sum (Block size 4x4):\")\n",
        "print(block_sum)"
      ]
    },
    {
      "cell_type": "markdown",
      "id": "2e0ad860",
      "metadata": {
        "id": "2e0ad860"
      },
      "source": [
        "#### 88. How to implement the Game of Life using numpy arrays? (★★★)"
      ]
    },
    {
      "cell_type": "code",
      "execution_count": 90,
      "id": "574acff5",
      "metadata": {
        "id": "574acff5",
        "colab": {
          "base_uri": "https://localhost:8080/",
          "height": 435
        },
        "outputId": "b703ceb4-5e72-40a3-f7fa-8622fc0e4efe"
      },
      "outputs": [
        {
          "output_type": "display_data",
          "data": {
            "text/plain": [
              "<Figure size 640x480 with 1 Axes>"
            ],
            "image/png": "[encoded data removed]"
          },
          "metadata": {}
        }
      ],
      "source": [
        "import numpy as np\n",
        "import matplotlib.pyplot as plt\n",
        "import matplotlib.animation as animation\n",
        "\n",
        "def next_state(grid):\n",
        "    neighbor_count = np.zeros_like(grid)\n",
        "    for i in range(grid.shape[0]):\n",
        "        for j in range(grid.shape[1]):\n",
        "            neighbor_count[i, j] = np.sum(grid[max(0, i-1):min(grid.shape[0], i+2),\n",
        "                                              max(0, j-1):min(grid.shape[1], j+2)]) - grid[i, j]\n",
        "\n",
        "    new_grid = np.zeros_like(grid)\n",
        "    new_grid[np.logical_and(grid == 1, np.logical_or(neighbor_count < 2, neighbor_count > 3))] = 0\n",
        "    new_grid[np.logical_and(grid == 0, neighbor_count == 3)] = 1\n",
        "\n",
        "    return new_grid\n",
        "\n",
        "def animate_life(i):\n",
        "    global grid\n",
        "    grid = next_state(grid)\n",
        "    mat.set_data(grid)\n",
        "    return [mat]\n",
        "\n",
        "grid_size = 50\n",
        "iterations = 100\n",
        "grid = np.random.choice([0, 1], size=(grid_size, grid_size))\n",
        "fig, ax = plt.subplots()\n",
        "mat = ax.matshow(grid, cmap='binary')\n",
        "ani = animation.FuncAnimation(fig, animate_life, frames=iterations, interval=200, blit=True)\n",
        "\n",
        "plt.show()"
      ]
    },
    {
      "cell_type": "markdown",
      "id": "69a892fa",
      "metadata": {
        "id": "69a892fa"
      },
      "source": [
        "#### 89. How to get the n largest values of an array (★★★)"
      ]
    },
    {
      "cell_type": "code",
      "execution_count": 91,
      "id": "21b2bd48",
      "metadata": {
        "id": "21b2bd48",
        "colab": {
          "base_uri": "https://localhost:8080/"
        },
        "outputId": "7efa4a0b-5a26-4aff-ef2b-2d335b456521"
      },
      "outputs": [
        {
          "output_type": "stream",
          "name": "stdout",
          "text": [
            "Original Array: [9 3 5 1 7 2 8 4 6]\n",
            "Method 1 - N Largest Values (Partial Sorting): [7 8 9]\n",
            "Method 2 - N Largest Values (Full Sorting): [7 8 9]\n"
          ]
        }
      ],
      "source": [
        "import numpy as np\n",
        "\n",
        "arr = np.array([9, 3, 5, 1, 7, 2, 8, 4, 6])\n",
        "n = 3\n",
        "n_largest_values_partial = np.partition(arr, -n)[-n:]\n",
        "\n",
        "sorted_arr = np.sort(arr)\n",
        "n_largest_values_sorted = sorted_arr[-n:]\n",
        "\n",
        "print(\"Original Array:\", arr)\n",
        "print(\"Method 1 - N Largest Values (Partial Sorting):\", n_largest_values_partial)\n",
        "print(\"Method 2 - N Largest Values (Full Sorting):\", n_largest_values_sorted)"
      ]
    },
    {
      "cell_type": "markdown",
      "id": "b55ccacc",
      "metadata": {
        "id": "b55ccacc"
      },
      "source": [
        "#### 90. Given an arbitrary number of vectors, build the cartesian product (every combinations of every item) (★★★)"
      ]
    },
    {
      "cell_type": "code",
      "execution_count": 92,
      "id": "4b645da4",
      "metadata": {
        "id": "4b645da4",
        "colab": {
          "base_uri": "https://localhost:8080/"
        },
        "outputId": "26eb7a5c-abb8-4bd2-9500-c754bf43603f"
      },
      "outputs": [
        {
          "output_type": "stream",
          "name": "stdout",
          "text": [
            "Vector 1: [1, 2]\n",
            "Vector 2: ['A', 'B', 'C']\n",
            "Vector 3: [10, 20, 30]\n",
            "\n",
            "Cartesian Product:\n",
            "[(1, 'A', 10), (1, 'A', 20), (1, 'A', 30), (1, 'B', 10), (1, 'B', 20), (1, 'B', 30), (1, 'C', 10), (1, 'C', 20), (1, 'C', 30), (2, 'A', 10), (2, 'A', 20), (2, 'A', 30), (2, 'B', 10), (2, 'B', 20), (2, 'B', 30), (2, 'C', 10), (2, 'C', 20), (2, 'C', 30)]\n"
          ]
        }
      ],
      "source": [
        "from itertools import product\n",
        "\n",
        "vector1 = [1, 2]\n",
        "vector2 = ['A', 'B', 'C']\n",
        "vector3 = [10, 20, 30]\n",
        "\n",
        "cartesian_product = list(product(vector1, vector2, vector3))\n",
        "\n",
        "print(\"Vector 1:\", vector1)\n",
        "print(\"Vector 2:\", vector2)\n",
        "print(\"Vector 3:\", vector3)\n",
        "print(\"\\nCartesian Product:\")\n",
        "print(cartesian_product)"
      ]
    },
    {
      "cell_type": "markdown",
      "id": "89187a23",
      "metadata": {
        "id": "89187a23"
      },
      "source": [
        "#### 91. How to create a record array from a regular array? (★★★)"
      ]
    },
    {
      "cell_type": "code",
      "execution_count": 93,
      "id": "da94c71a",
      "metadata": {
        "id": "da94c71a",
        "colab": {
          "base_uri": "https://localhost:8080/"
        },
        "outputId": "52fa9d8b-6716-4b51-b0d1-fd5f5bf0d906"
      },
      "outputs": [
        {
          "output_type": "stream",
          "name": "stdout",
          "text": [
            "Regular Array:\n",
            "[(1, 'Alice', 25) (2, 'Bob', 30) (3, 'Charlie', 35)]\n",
            "\n",
            "Record Array:\n",
            "[(1, 'Alice', 25) (2, 'Bob', 30) (3, 'Charlie', 35)]\n"
          ]
        }
      ],
      "source": [
        "import numpy as np\n",
        "\n",
        "regular_array = np.array([(1, 'Alice', 25),\n",
        "                          (2, 'Bob', 30),\n",
        "                          (3, 'Charlie', 35)],\n",
        "                         dtype=[('ID', 'int'), ('Name', 'U10'), ('Age', 'int')])\n",
        "\n",
        "record_array = np.rec.array(regular_array)\n",
        "\n",
        "print(\"Regular Array:\")\n",
        "print(regular_array)\n",
        "\n",
        "print(\"\\nRecord Array:\")\n",
        "print(record_array)"
      ]
    },
    {
      "cell_type": "markdown",
      "id": "aa70d4ca",
      "metadata": {
        "id": "aa70d4ca"
      },
      "source": [
        "#### 92. Consider a large vector Z, compute Z to the power of 3 using 3 different methods (★★★)"
      ]
    },
    {
      "cell_type": "code",
      "execution_count": 94,
      "id": "7cff1bf5",
      "metadata": {
        "id": "7cff1bf5"
      },
      "outputs": [],
      "source": [
        "import numpy as np\n",
        "\n",
        "Z = np.random.rand(1000000)\n",
        "\n",
        "Z_power_3_loop = np.zeros_like(Z)\n",
        "for i in range(len(Z)):\n",
        "    Z_power_3_loop[i] = Z[i] ** 3"
      ]
    },
    {
      "cell_type": "markdown",
      "id": "5f79dd00",
      "metadata": {
        "id": "5f79dd00"
      },
      "source": [
        "#### 93. Consider two arrays A and B of shape (8,3) and (2,2). How to find rows of A that contain elements of each row of B regardless of the order of the elements in B? (★★★)"
      ]
    },
    {
      "cell_type": "code",
      "execution_count": 98,
      "id": "20c105b2",
      "metadata": {
        "id": "20c105b2",
        "colab": {
          "base_uri": "https://localhost:8080/"
        },
        "outputId": "5ccedb2a-6460-4ed6-dd45-7c7ddd0b76a2"
      },
      "outputs": [
        {
          "output_type": "stream",
          "name": "stdout",
          "text": [
            "Array A:\n",
            "[[1 2 3]\n",
            " [4 5 6]\n",
            " [7 8 9]\n",
            " [2 1 3]\n",
            " [3 2 1]\n",
            " [6 5 4]\n",
            " [9 8 7]\n",
            " [3 2 1]]\n",
            "\n",
            "Array B:\n",
            "[[1 2]\n",
            " [2 3]]\n",
            "\n",
            "Rows of A that contain elements of each row of B:\n",
            "[[1 2 3]\n",
            " [2 1 3]\n",
            " [3 2 1]\n",
            " [3 2 1]]\n"
          ]
        }
      ],
      "source": [
        "import numpy as np\n",
        "\n",
        "# Example arrays A and B\n",
        "A = np.array([[1, 2, 3],\n",
        "              [4, 5, 6],\n",
        "              [7, 8, 9],\n",
        "              [2, 1, 3],\n",
        "              [3, 2, 1],\n",
        "              [6, 5, 4],\n",
        "              [9, 8, 7],\n",
        "              [3, 2, 1]])\n",
        "\n",
        "B = np.array([[1, 2],\n",
        "              [2, 3]])\n",
        "\n",
        "# Find rows of A that contain elements of each row of B\n",
        "rows_containing_elements = np.array([np.intersect1d(A_row, B_row).size == B_row.size for B_row in B for A_row in A]).reshape(B.shape[0], A.shape[0]).T.all(axis=1)\n",
        "\n",
        "# Get the result rows\n",
        "result_rows = A[rows_containing_elements]\n",
        "\n",
        "print(\"Array A:\")\n",
        "print(A)\n",
        "\n",
        "print(\"\\nArray B:\")\n",
        "print(B)\n",
        "\n",
        "print(\"\\nRows of A that contain elements of each row of B:\")\n",
        "print(result_rows)"
      ]
    },
    {
      "cell_type": "markdown",
      "id": "a80570cd",
      "metadata": {
        "id": "a80570cd"
      },
      "source": [
        "#### 94. Considering a 10x3 matrix, extract rows with unequal values (e.g. [2,2,3]) (★★★)"
      ]
    },
    {
      "cell_type": "code",
      "execution_count": 99,
      "id": "84db8de1",
      "metadata": {
        "id": "84db8de1",
        "colab": {
          "base_uri": "https://localhost:8080/"
        },
        "outputId": "91e60e1b-2aa3-4391-f42d-f8ac00089bbb"
      },
      "outputs": [
        {
          "output_type": "stream",
          "name": "stdout",
          "text": [
            "Original Matrix:\n",
            "[[ 1  2  3]\n",
            " [ 2  2  2]\n",
            " [ 3  3  3]\n",
            " [ 4  4  5]\n",
            " [ 5  5  5]\n",
            " [ 6  7  6]\n",
            " [ 7  7  7]\n",
            " [ 8  8  8]\n",
            " [ 9  9  9]\n",
            " [10 10 11]]\n",
            "\n",
            "Rows with Unequal Values:\n",
            "[[1 2 3]\n",
            " [6 7 6]]\n"
          ]
        }
      ],
      "source": [
        "import numpy as np\n",
        "\n",
        "matrix = np.array([[1, 2, 3],\n",
        "                   [2, 2, 2],\n",
        "                   [3, 3, 3],\n",
        "                   [4, 4, 5],\n",
        "                   [5, 5, 5],\n",
        "                   [6, 7, 6],\n",
        "                   [7, 7, 7],\n",
        "                   [8, 8, 8],\n",
        "                   [9, 9, 9],\n",
        "                   [10, 10, 11]])\n",
        "\n",
        "unequal_rows = matrix[np.all(matrix[:, 1:] != matrix[:, :-1], axis=1)]\n",
        "\n",
        "print(\"Original Matrix:\")\n",
        "print(matrix)\n",
        "\n",
        "print(\"\\nRows with Unequal Values:\")\n",
        "print(unequal_rows)"
      ]
    },
    {
      "cell_type": "markdown",
      "id": "ba154f43",
      "metadata": {
        "id": "ba154f43"
      },
      "source": [
        "#### 95. Convert a vector of ints into a matrix binary representation (★★★)"
      ]
    },
    {
      "cell_type": "code",
      "execution_count": 100,
      "id": "cfa96e1b",
      "metadata": {
        "id": "cfa96e1b",
        "colab": {
          "base_uri": "https://localhost:8080/"
        },
        "outputId": "c61f8f00-7069-485e-9c7b-23342521cac7"
      },
      "outputs": [
        {
          "output_type": "stream",
          "name": "stdout",
          "text": [
            "Vector:\n",
            "[1 2 3 4 5]\n",
            "\n",
            "Matrix Binary Representation:\n",
            "[[0 0 0 0 0 0 0 1]\n",
            " [0 0 0 0 0 0 1 0]\n",
            " [0 0 0 0 0 0 1 1]\n",
            " [0 0 0 0 0 1 0 0]\n",
            " [0 0 0 0 0 1 0 1]]\n"
          ]
        }
      ],
      "source": [
        "import numpy as np\n",
        "\n",
        "vector = np.array([1, 2, 3, 4, 5], dtype=np.uint8)\n",
        "\n",
        "matrix_binary = np.unpackbits(vector[:, np.newaxis], axis=1)\n",
        "\n",
        "print(\"Vector:\")\n",
        "print(vector)\n",
        "\n",
        "print(\"\\nMatrix Binary Representation:\")\n",
        "print(matrix_binary)"
      ]
    },
    {
      "cell_type": "markdown",
      "id": "420e2343",
      "metadata": {
        "id": "420e2343"
      },
      "source": [
        "#### 96. Given a two dimensional array, how to extract unique rows? (★★★)"
      ]
    },
    {
      "cell_type": "code",
      "execution_count": 101,
      "id": "4680dfd0",
      "metadata": {
        "id": "4680dfd0",
        "colab": {
          "base_uri": "https://localhost:8080/"
        },
        "outputId": "8f6ecdee-eebd-4d90-cd97-f1bf2d622b83"
      },
      "outputs": [
        {
          "output_type": "stream",
          "name": "stdout",
          "text": [
            "Original Array:\n",
            "[[1 2 3]\n",
            " [4 5 6]\n",
            " [1 2 3]\n",
            " [7 8 9]\n",
            " [4 5 6]]\n",
            "\n",
            "Unique Rows:\n",
            "[[1 2 3]\n",
            " [4 5 6]\n",
            " [7 8 9]]\n"
          ]
        }
      ],
      "source": [
        "import numpy as np\n",
        "\n",
        "array = np.array([[1, 2, 3],\n",
        "                  [4, 5, 6],\n",
        "                  [1, 2, 3],\n",
        "                  [7, 8, 9],\n",
        "                  [4, 5, 6]])\n",
        "\n",
        "unique_rows = np.unique(array, axis=0)\n",
        "\n",
        "print(\"Original Array:\")\n",
        "print(array)\n",
        "\n",
        "print(\"\\nUnique Rows:\")\n",
        "print(unique_rows)"
      ]
    },
    {
      "cell_type": "markdown",
      "id": "89fef2f3",
      "metadata": {
        "id": "89fef2f3"
      },
      "source": [
        "#### 97. Considering 2 vectors A & B, write the einsum equivalent of inner, outer, sum, and mul function (★★★)"
      ]
    },
    {
      "cell_type": "code",
      "execution_count": 105,
      "id": "bb9c14b2",
      "metadata": {
        "id": "bb9c14b2",
        "colab": {
          "base_uri": "https://localhost:8080/"
        },
        "outputId": "1d475734-4bb8-443a-99c9-2ab97f72e45b"
      },
      "outputs": [
        {
          "output_type": "stream",
          "name": "stdout",
          "text": [
            "Inner Product: 32\n",
            "Outer Product:\n",
            "[[ 4  5  6]\n",
            " [ 8 10 12]\n",
            " [12 15 18]]\n",
            "Element-wise Sum: [5 7 9]\n",
            "Element-wise Multiplication: [ 4 10 18]\n"
          ]
        }
      ],
      "source": [
        "import numpy as np\n",
        "\n",
        "# Inner Product (Dot Product)\n",
        "A = np.array([1, 2, 3])\n",
        "B = np.array([4, 5, 6])\n",
        "result_inner = np.einsum('i,i->', A, B)\n",
        "print(\"Inner Product:\", result_inner)\n",
        "\n",
        "# Outer Product\n",
        "A = np.array([1, 2, 3])\n",
        "B = np.array([4, 5, 6])\n",
        "result_outer = np.einsum('i,j->ij', A, B)\n",
        "print(\"Outer Product:\")\n",
        "print(result_outer)\n",
        "\n",
        "# Element-wise Sum\n",
        "A = np.array([1, 2, 3])\n",
        "B = np.array([4, 5, 6])\n",
        "result_sum = A + B\n",
        "print(\"Element-wise Sum:\", result_sum)\n",
        "\n",
        "# Element-wise Multiplication\n",
        "A = np.array([1, 2, 3])\n",
        "B = np.array([4, 5, 6])\n",
        "result_mul = np.einsum('i,i->i', A, B)\n",
        "print(\"Element-wise Multiplication:\", result_mul)"
      ]
    },
    {
      "cell_type": "markdown",
      "id": "7ad5cc5f",
      "metadata": {
        "id": "7ad5cc5f"
      },
      "source": [
        "#### 98. Considering a path described by two vectors (X,Y), how to sample it using equidistant samples (★★★)?"
      ]
    },
    {
      "cell_type": "code",
      "execution_count": 106,
      "id": "0899d1d5",
      "metadata": {
        "id": "0899d1d5",
        "colab": {
          "base_uri": "https://localhost:8080/"
        },
        "outputId": "e8317149-dc56-4c57-bfe2-208282857931"
      },
      "outputs": [
        {
          "output_type": "stream",
          "name": "stdout",
          "text": [
            "Original Path (X, Y):\n",
            "[(0, 1), (1, 3), (3, 2), (4, 5), (6, 8)]\n",
            "\n",
            "Equidistant Sampled Path:\n",
            "[(0.0, 1.0), (0.5585183457814228, 2.117036691562846), (1.2340733831256914, 2.882963308437154), (2.351110074688537, 2.3244449626557318), (3.165514876503453, 2.4965446295103595), (3.56044698622259, 3.6813409586677697), (3.955379095941727, 4.866137287825181), (4.61448650435595, 5.921729756533924), (5.307243252177975, 6.960864878266962), (6.0, 8.0)]\n"
          ]
        }
      ],
      "source": [
        "import numpy as np\n",
        "\n",
        "X = np.array([0, 1, 3, 4, 6])\n",
        "Y = np.array([1, 3, 2, 5, 8])\n",
        "\n",
        "num_samples = 10\n",
        "\n",
        "distances = np.sqrt(np.diff(X)**2 + np.diff(Y)**2)\n",
        "\n",
        "cumulative_distances = np.insert(np.cumsum(distances), 0, 0)\n",
        "\n",
        "total_length = cumulative_distances[-1]\n",
        "\n",
        "sample_distances = np.linspace(0, total_length, num_samples)\n",
        "sample_points = np.interp(sample_distances, cumulative_distances, X), np.interp(sample_distances, cumulative_distances, Y)\n",
        "\n",
        "print(\"Original Path (X, Y):\")\n",
        "print(list(zip(X, Y)))\n",
        "\n",
        "print(\"\\nEquidistant Sampled Path:\")\n",
        "print(list(zip(*sample_points)))"
      ]
    },
    {
      "cell_type": "markdown",
      "id": "2b69272e",
      "metadata": {
        "id": "2b69272e"
      },
      "source": [
        "#### 99. Given an integer n and a 2D array X, select from X the rows which can be interpreted as draws from a multinomial distribution with n degrees, i.e., the rows which only contain integers and which sum to n. (★★★)"
      ]
    },
    {
      "cell_type": "code",
      "execution_count": 108,
      "id": "55c8b034",
      "metadata": {
        "id": "55c8b034",
        "colab": {
          "base_uri": "https://localhost:8080/"
        },
        "outputId": "150608cd-b5b2-46ec-bb34-9b9866f60724"
      },
      "outputs": [
        {
          "output_type": "stream",
          "name": "stdout",
          "text": [
            "Original 2D Array X:\n",
            "[[1 2 3]\n",
            " [4 5 6]\n",
            " [7 8 9]\n",
            " [2 3 5]\n",
            " [3 5 2]]\n",
            "\n",
            "Rows with Multinomial Draws (sum to 10):\n",
            "[[2 3 5]\n",
            " [3 5 2]]\n"
          ]
        }
      ],
      "source": [
        "import numpy as np\n",
        "\n",
        "def is_multinomial_draw(row, n):\n",
        "    return np.all(np.equal(np.mod(row, 1), 0)) and np.sum(row) == n\n",
        "\n",
        "def select_multinomial_draws(X, n):\n",
        "    mask = np.apply_along_axis(lambda row: is_multinomial_draw(row, n), 1, X)\n",
        "    selected_rows = X[mask]\n",
        "    return selected_rows\n",
        "\n",
        "X = np.array([[1, 2, 3],\n",
        "              [4, 5, 6],\n",
        "              [7, 8, 9],\n",
        "              [2, 3, 5],\n",
        "              [3, 5, 2]])\n",
        "\n",
        "n = 10\n",
        "selected_rows = select_multinomial_draws(X, n)\n",
        "\n",
        "print(\"Original 2D Array X:\")\n",
        "print(X)\n",
        "\n",
        "print(\"\\nRows with Multinomial Draws (sum to {}):\".format(n))\n",
        "print(selected_rows)"
      ]
    },
    {
      "cell_type": "markdown",
      "id": "59ab5516",
      "metadata": {
        "id": "59ab5516"
      },
      "source": [
        "#### 100. Compute bootstrapped 95% confidence intervals for the mean of a 1D array X (i.e., resample the elements of an array with replacement N times, compute the mean of each sample, and then compute percentiles over the means). (★★★)"
      ]
    },
    {
      "cell_type": "code",
      "execution_count": 109,
      "id": "450877d8",
      "metadata": {
        "id": "450877d8",
        "colab": {
          "base_uri": "https://localhost:8080/"
        },
        "outputId": "0f1fe1dc-3cf5-4ec9-aa31-8c6e355c2322"
      },
      "outputs": [
        {
          "output_type": "stream",
          "name": "stdout",
          "text": [
            "Original 1D Array X:\n",
            "[ 1  2  3  4  5  6  7  8  9 10]\n",
            "\n",
            "Bootstrapped 95% Confidence Intervals for the Mean:\n",
            "Lower Bound: 3.7\n",
            "Upper Bound: 7.3\n"
          ]
        }
      ],
      "source": [
        "import numpy as np\n",
        "\n",
        "def compute_bootstrapped_confidence_intervals(X, num_samples, alpha=0.05):\n",
        "    means = [np.mean(np.random.choice(X, len(X), replace=True)) for _ in range(num_samples)]\n",
        "    lower_bound = np.percentile(means, 100 * alpha / 2)\n",
        "    upper_bound = np.percentile(means, 100 * (1 - alpha / 2))\n",
        "    return lower_bound, upper_bound\n",
        "\n",
        "X = np.array([1, 2, 3, 4, 5, 6, 7, 8, 9, 10])\n",
        "\n",
        "num_samples = 1000\n",
        "\n",
        "lower_bound, upper_bound = compute_bootstrapped_confidence_intervals(X, num_samples)\n",
        "\n",
        "print(\"Original 1D Array X:\")\n",
        "print(X)\n",
        "\n",
        "print(\"\\nBootstrapped 95% Confidence Intervals for the Mean:\")\n",
        "print(\"Lower Bound:\", lower_bound)\n",
        "print(\"Upper Bound:\", upper_bound)"
      ]
    }
  ],
  "metadata": {
    "kernelspec": {
      "display_name": "Python 3 (ipykernel)",
      "language": "python",
      "name": "python3"
    },
    "language_info": {
      "codemirror_mode": {
        "name": "ipython",
        "version": 3
      },
      "file_extension": ".py",
      "mimetype": "text/x-python",
      "name": "python",
      "nbconvert_exporter": "python",
      "pygments_lexer": "ipython3",
      "version": "3.9.13"
    },
    "colab": {
      "provenance": []
    }
  },
  "nbformat": 4,
  "nbformat_minor": 5
}